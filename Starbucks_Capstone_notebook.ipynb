{
 "cells": [
  {
   "cell_type": "markdown",
   "metadata": {},
   "source": [
    "## Overview of the Project"
   ]
  },
  {
   "cell_type": "markdown",
   "metadata": {},
   "source": [
    "This data collection contains simulated data from the Starbucks rewards mobile app, which replicates user behaviour. Starbucks sends out an offer to its mobile app users every few days. An offer might be as simple as a drink commercial or as complex as a discount or a BOGO deal (buy one get one free). During certain weeks, certain users may not receive any offers.\n",
    "\n",
    "This data set presents a challenge in that not all users receive the same offer.\n",
    "\n",
    "There are three files in this data set. The first file contains information about each offer, such as its duration and the amount of money required to finish it (difficulty). The second file contains information on the customer's demographics."
   ]
  },
  {
   "cell_type": "markdown",
   "metadata": {},
   "source": [
    "## Problem Statement and its Metrics"
   ]
  },
  {
   "cell_type": "markdown",
   "metadata": {},
   "source": [
    "I selected to solve the problem of developing a model that predicts whether a customer will respond to an offer. There are two steps to my solution to this problem. First, I'll combine the client profile, offer portfolio, and transaction data. The qualities of an offer, consumer demographic data, and whether the offer was successful will be described in each row of this integrated dataset. Second, I'll evaluate the precision and F1-score of a naive model that assumes all offers are accepted. This gives me a starting point for analysing the performance of the models I build. The accuracy of a model is determined by how well it predicts whether or not an offer will be accepted.\n",
    "\n",
    "However, accuracy is not a good measure of model performance if the fraction of successful or unsuccessful offers is relatively low. In this case, assessing a model's precision and recall provides more information about its performance. Because it is \"a weighted average of the precision and recall measurements,\" I chose the F1-score metric."
   ]
  },
  {
   "cell_type": "code",
   "execution_count": 1,
   "metadata": {
    "scrolled": true
   },
   "outputs": [],
   "source": [
    "import math\n",
    "import progressbar\n",
    "import seaborn as sns\n",
    "import json\n",
    "import numpy as np\n",
    "import pandas as pd\n",
    "import re\n",
    "\n",
    "from matplotlib import pyplot as plt\n",
    "from sklearn.model_selection import train_test_split\n",
    "from sklearn.metrics import fbeta_score, make_scorer\n",
    "from sklearn.metrics import accuracy_score, f1_score\n",
    "from sklearn.model_selection import GridSearchCV, RandomizedSearchCV\n",
    "from sklearn.ensemble import GradientBoostingClassifier, RandomForestClassifier\n",
    "from sklearn.linear_model import LogisticRegression\n",
    "\n",
    "%matplotlib inline"
   ]
  },
  {
   "cell_type": "markdown",
   "metadata": {},
   "source": [
    "### Import Data"
   ]
  },
  {
   "cell_type": "code",
   "execution_count": 2,
   "metadata": {},
   "outputs": [],
   "source": [
    "# read in the json files\n",
    "portfolio = pd.read_json('data/portfolio.json', orient='records', lines=True)\n",
    "profile = pd.read_json('data/profile.json', orient='records', lines=True)\n",
    "transcript = pd.read_json('data/transcript.json', orient='records', lines=True)"
   ]
  },
  {
   "cell_type": "markdown",
   "metadata": {},
   "source": [
    "### 1. Portfolio Data\n",
    "\n",
    "#### Dataset column description :\n",
    "\n",
    "**portfolio.json**\n",
    "\n",
    "- reward (int) - reward given for completing an offer\n",
    "- channels (list of strings)\n",
    "- difficulty (int) - minimum required spend to complete an offer\n",
    "- duration (int) - time for offer to be open, in days\n",
    "- offer_type (string) - type of offer ie BOGO, discount, informational\n",
    "- id (string) - offer id\n"
   ]
  },
  {
   "cell_type": "code",
   "execution_count": 3,
   "metadata": {},
   "outputs": [
    {
     "data": {
      "text/html": [
       "<div>\n",
       "<style scoped>\n",
       "    .dataframe tbody tr th:only-of-type {\n",
       "        vertical-align: middle;\n",
       "    }\n",
       "\n",
       "    .dataframe tbody tr th {\n",
       "        vertical-align: top;\n",
       "    }\n",
       "\n",
       "    .dataframe thead th {\n",
       "        text-align: right;\n",
       "    }\n",
       "</style>\n",
       "<table border=\"1\" class=\"dataframe\">\n",
       "  <thead>\n",
       "    <tr style=\"text-align: right;\">\n",
       "      <th></th>\n",
       "      <th>reward</th>\n",
       "      <th>channels</th>\n",
       "      <th>difficulty</th>\n",
       "      <th>duration</th>\n",
       "      <th>offer_type</th>\n",
       "      <th>id</th>\n",
       "    </tr>\n",
       "  </thead>\n",
       "  <tbody>\n",
       "    <tr>\n",
       "      <th>0</th>\n",
       "      <td>10</td>\n",
       "      <td>[email, mobile, social]</td>\n",
       "      <td>10</td>\n",
       "      <td>7</td>\n",
       "      <td>bogo</td>\n",
       "      <td>ae264e3637204a6fb9bb56bc8210ddfd</td>\n",
       "    </tr>\n",
       "    <tr>\n",
       "      <th>1</th>\n",
       "      <td>10</td>\n",
       "      <td>[web, email, mobile, social]</td>\n",
       "      <td>10</td>\n",
       "      <td>5</td>\n",
       "      <td>bogo</td>\n",
       "      <td>4d5c57ea9a6940dd891ad53e9dbe8da0</td>\n",
       "    </tr>\n",
       "    <tr>\n",
       "      <th>2</th>\n",
       "      <td>0</td>\n",
       "      <td>[web, email, mobile]</td>\n",
       "      <td>0</td>\n",
       "      <td>4</td>\n",
       "      <td>informational</td>\n",
       "      <td>3f207df678b143eea3cee63160fa8bed</td>\n",
       "    </tr>\n",
       "    <tr>\n",
       "      <th>3</th>\n",
       "      <td>5</td>\n",
       "      <td>[web, email, mobile]</td>\n",
       "      <td>5</td>\n",
       "      <td>7</td>\n",
       "      <td>bogo</td>\n",
       "      <td>9b98b8c7a33c4b65b9aebfe6a799e6d9</td>\n",
       "    </tr>\n",
       "    <tr>\n",
       "      <th>4</th>\n",
       "      <td>5</td>\n",
       "      <td>[web, email]</td>\n",
       "      <td>20</td>\n",
       "      <td>10</td>\n",
       "      <td>discount</td>\n",
       "      <td>0b1e1539f2cc45b7b9fa7c272da2e1d7</td>\n",
       "    </tr>\n",
       "    <tr>\n",
       "      <th>5</th>\n",
       "      <td>3</td>\n",
       "      <td>[web, email, mobile, social]</td>\n",
       "      <td>7</td>\n",
       "      <td>7</td>\n",
       "      <td>discount</td>\n",
       "      <td>2298d6c36e964ae4a3e7e9706d1fb8c2</td>\n",
       "    </tr>\n",
       "    <tr>\n",
       "      <th>6</th>\n",
       "      <td>2</td>\n",
       "      <td>[web, email, mobile, social]</td>\n",
       "      <td>10</td>\n",
       "      <td>10</td>\n",
       "      <td>discount</td>\n",
       "      <td>fafdcd668e3743c1bb461111dcafc2a4</td>\n",
       "    </tr>\n",
       "    <tr>\n",
       "      <th>7</th>\n",
       "      <td>0</td>\n",
       "      <td>[email, mobile, social]</td>\n",
       "      <td>0</td>\n",
       "      <td>3</td>\n",
       "      <td>informational</td>\n",
       "      <td>5a8bc65990b245e5a138643cd4eb9837</td>\n",
       "    </tr>\n",
       "    <tr>\n",
       "      <th>8</th>\n",
       "      <td>5</td>\n",
       "      <td>[web, email, mobile, social]</td>\n",
       "      <td>5</td>\n",
       "      <td>5</td>\n",
       "      <td>bogo</td>\n",
       "      <td>f19421c1d4aa40978ebb69ca19b0e20d</td>\n",
       "    </tr>\n",
       "    <tr>\n",
       "      <th>9</th>\n",
       "      <td>2</td>\n",
       "      <td>[web, email, mobile]</td>\n",
       "      <td>10</td>\n",
       "      <td>7</td>\n",
       "      <td>discount</td>\n",
       "      <td>2906b810c7d4411798c6938adc9daaa5</td>\n",
       "    </tr>\n",
       "  </tbody>\n",
       "</table>\n",
       "</div>"
      ],
      "text/plain": [
       "   reward                      channels  difficulty  duration     offer_type  \\\n",
       "0      10       [email, mobile, social]          10         7           bogo   \n",
       "1      10  [web, email, mobile, social]          10         5           bogo   \n",
       "2       0          [web, email, mobile]           0         4  informational   \n",
       "3       5          [web, email, mobile]           5         7           bogo   \n",
       "4       5                  [web, email]          20        10       discount   \n",
       "5       3  [web, email, mobile, social]           7         7       discount   \n",
       "6       2  [web, email, mobile, social]          10        10       discount   \n",
       "7       0       [email, mobile, social]           0         3  informational   \n",
       "8       5  [web, email, mobile, social]           5         5           bogo   \n",
       "9       2          [web, email, mobile]          10         7       discount   \n",
       "\n",
       "                                 id  \n",
       "0  ae264e3637204a6fb9bb56bc8210ddfd  \n",
       "1  4d5c57ea9a6940dd891ad53e9dbe8da0  \n",
       "2  3f207df678b143eea3cee63160fa8bed  \n",
       "3  9b98b8c7a33c4b65b9aebfe6a799e6d9  \n",
       "4  0b1e1539f2cc45b7b9fa7c272da2e1d7  \n",
       "5  2298d6c36e964ae4a3e7e9706d1fb8c2  \n",
       "6  fafdcd668e3743c1bb461111dcafc2a4  \n",
       "7  5a8bc65990b245e5a138643cd4eb9837  \n",
       "8  f19421c1d4aa40978ebb69ca19b0e20d  \n",
       "9  2906b810c7d4411798c6938adc9daaa5  "
      ]
     },
     "execution_count": 3,
     "metadata": {},
     "output_type": "execute_result"
    }
   ],
   "source": [
    "portfolio"
   ]
  },
  {
   "cell_type": "code",
   "execution_count": 4,
   "metadata": {},
   "outputs": [
    {
     "name": "stdout",
     "output_type": "stream",
     "text": [
      "<class 'pandas.core.frame.DataFrame'>\n",
      "RangeIndex: 10 entries, 0 to 9\n",
      "Data columns (total 6 columns):\n",
      " #   Column      Non-Null Count  Dtype \n",
      "---  ------      --------------  ----- \n",
      " 0   reward      10 non-null     int64 \n",
      " 1   channels    10 non-null     object\n",
      " 2   difficulty  10 non-null     int64 \n",
      " 3   duration    10 non-null     int64 \n",
      " 4   offer_type  10 non-null     object\n",
      " 5   id          10 non-null     object\n",
      "dtypes: int64(3), object(3)\n",
      "memory usage: 608.0+ bytes\n"
     ]
    }
   ],
   "source": [
    "portfolio.info()"
   ]
  },
  {
   "cell_type": "markdown",
   "metadata": {},
   "source": [
    "### Cleaning Portfolio Data:\n",
    "\n",
    "Instructions:\n",
    "1. rename id col name to offer_id\n",
    "2. one-hot encode offer_type column\n",
    "3. one-hot encode channels"
   ]
  },
  {
   "cell_type": "code",
   "execution_count": 5,
   "metadata": {},
   "outputs": [],
   "source": [
    "# 1. rename id col name to offer_id.\n",
    "portfolio.rename(columns={'id': 'offer_id'}, inplace=True)"
   ]
  },
  {
   "cell_type": "code",
   "execution_count": 6,
   "metadata": {},
   "outputs": [],
   "source": [
    "# 2. one-hot encode offer_type column\n",
    "\n",
    "for index, row in portfolio.iterrows():\n",
    "    for offertype in ['bogo', 'informational', 'discount']:\n",
    "        if offertype in portfolio.loc[index, 'offer_type']:\n",
    "            portfolio.loc[index, offertype] = 1\n",
    "        else:\n",
    "            portfolio.loc[index, offertype] = 0\n",
    "portfolio.drop(columns='offer_type', inplace=True)"
   ]
  },
  {
   "cell_type": "code",
   "execution_count": 7,
   "metadata": {},
   "outputs": [],
   "source": [
    "# 3. one-hot encode channels\n",
    "\n",
    "for index, row in portfolio.iterrows():\n",
    "    for channel in ['web', 'email', 'social', 'mobile']:\n",
    "        if channel in portfolio.loc[index, 'channels']:\n",
    "            portfolio.loc[index, channel] = 1\n",
    "        else:\n",
    "            portfolio.loc[index, channel] = 0\n",
    "portfolio.drop(columns='channels', inplace=True)"
   ]
  },
  {
   "cell_type": "code",
   "execution_count": 8,
   "metadata": {},
   "outputs": [
    {
     "data": {
      "text/html": [
       "<div>\n",
       "<style scoped>\n",
       "    .dataframe tbody tr th:only-of-type {\n",
       "        vertical-align: middle;\n",
       "    }\n",
       "\n",
       "    .dataframe tbody tr th {\n",
       "        vertical-align: top;\n",
       "    }\n",
       "\n",
       "    .dataframe thead th {\n",
       "        text-align: right;\n",
       "    }\n",
       "</style>\n",
       "<table border=\"1\" class=\"dataframe\">\n",
       "  <thead>\n",
       "    <tr style=\"text-align: right;\">\n",
       "      <th></th>\n",
       "      <th>reward</th>\n",
       "      <th>difficulty</th>\n",
       "      <th>duration</th>\n",
       "      <th>offer_id</th>\n",
       "      <th>bogo</th>\n",
       "      <th>informational</th>\n",
       "      <th>discount</th>\n",
       "      <th>web</th>\n",
       "      <th>email</th>\n",
       "      <th>social</th>\n",
       "      <th>mobile</th>\n",
       "    </tr>\n",
       "  </thead>\n",
       "  <tbody>\n",
       "    <tr>\n",
       "      <th>0</th>\n",
       "      <td>10</td>\n",
       "      <td>10</td>\n",
       "      <td>7</td>\n",
       "      <td>ae264e3637204a6fb9bb56bc8210ddfd</td>\n",
       "      <td>1.0</td>\n",
       "      <td>0.0</td>\n",
       "      <td>0.0</td>\n",
       "      <td>0.0</td>\n",
       "      <td>1.0</td>\n",
       "      <td>1.0</td>\n",
       "      <td>1.0</td>\n",
       "    </tr>\n",
       "    <tr>\n",
       "      <th>1</th>\n",
       "      <td>10</td>\n",
       "      <td>10</td>\n",
       "      <td>5</td>\n",
       "      <td>4d5c57ea9a6940dd891ad53e9dbe8da0</td>\n",
       "      <td>1.0</td>\n",
       "      <td>0.0</td>\n",
       "      <td>0.0</td>\n",
       "      <td>1.0</td>\n",
       "      <td>1.0</td>\n",
       "      <td>1.0</td>\n",
       "      <td>1.0</td>\n",
       "    </tr>\n",
       "    <tr>\n",
       "      <th>2</th>\n",
       "      <td>0</td>\n",
       "      <td>0</td>\n",
       "      <td>4</td>\n",
       "      <td>3f207df678b143eea3cee63160fa8bed</td>\n",
       "      <td>0.0</td>\n",
       "      <td>1.0</td>\n",
       "      <td>0.0</td>\n",
       "      <td>1.0</td>\n",
       "      <td>1.0</td>\n",
       "      <td>0.0</td>\n",
       "      <td>1.0</td>\n",
       "    </tr>\n",
       "    <tr>\n",
       "      <th>3</th>\n",
       "      <td>5</td>\n",
       "      <td>5</td>\n",
       "      <td>7</td>\n",
       "      <td>9b98b8c7a33c4b65b9aebfe6a799e6d9</td>\n",
       "      <td>1.0</td>\n",
       "      <td>0.0</td>\n",
       "      <td>0.0</td>\n",
       "      <td>1.0</td>\n",
       "      <td>1.0</td>\n",
       "      <td>0.0</td>\n",
       "      <td>1.0</td>\n",
       "    </tr>\n",
       "    <tr>\n",
       "      <th>4</th>\n",
       "      <td>5</td>\n",
       "      <td>20</td>\n",
       "      <td>10</td>\n",
       "      <td>0b1e1539f2cc45b7b9fa7c272da2e1d7</td>\n",
       "      <td>0.0</td>\n",
       "      <td>0.0</td>\n",
       "      <td>1.0</td>\n",
       "      <td>1.0</td>\n",
       "      <td>1.0</td>\n",
       "      <td>0.0</td>\n",
       "      <td>0.0</td>\n",
       "    </tr>\n",
       "  </tbody>\n",
       "</table>\n",
       "</div>"
      ],
      "text/plain": [
       "   reward  difficulty  duration                          offer_id  bogo  \\\n",
       "0      10          10         7  ae264e3637204a6fb9bb56bc8210ddfd   1.0   \n",
       "1      10          10         5  4d5c57ea9a6940dd891ad53e9dbe8da0   1.0   \n",
       "2       0           0         4  3f207df678b143eea3cee63160fa8bed   0.0   \n",
       "3       5           5         7  9b98b8c7a33c4b65b9aebfe6a799e6d9   1.0   \n",
       "4       5          20        10  0b1e1539f2cc45b7b9fa7c272da2e1d7   0.0   \n",
       "\n",
       "   informational  discount  web  email  social  mobile  \n",
       "0            0.0       0.0  0.0    1.0     1.0     1.0  \n",
       "1            0.0       0.0  1.0    1.0     1.0     1.0  \n",
       "2            1.0       0.0  1.0    1.0     0.0     1.0  \n",
       "3            0.0       0.0  1.0    1.0     0.0     1.0  \n",
       "4            0.0       1.0  1.0    1.0     0.0     0.0  "
      ]
     },
     "execution_count": 8,
     "metadata": {},
     "output_type": "execute_result"
    }
   ],
   "source": [
    "portfolio.head()"
   ]
  },
  {
   "cell_type": "markdown",
   "metadata": {},
   "source": [
    "### 2. Profile Data\n",
    "\n",
    "#### Dataset column description :\n",
    "\n",
    "**profile.json**\n",
    "\n",
    "- gender (str) - gender of the customer (note some entries contain 'O' for other rather than M or F)\n",
    "- age (int) - age of the customer\n",
    "- id (str) - customer id\n",
    "- became_member_on (int) - date when customer created an app account\n",
    "- income (float) - customer's income"
   ]
  },
  {
   "cell_type": "code",
   "execution_count": 9,
   "metadata": {},
   "outputs": [
    {
     "data": {
      "text/html": [
       "<div>\n",
       "<style scoped>\n",
       "    .dataframe tbody tr th:only-of-type {\n",
       "        vertical-align: middle;\n",
       "    }\n",
       "\n",
       "    .dataframe tbody tr th {\n",
       "        vertical-align: top;\n",
       "    }\n",
       "\n",
       "    .dataframe thead th {\n",
       "        text-align: right;\n",
       "    }\n",
       "</style>\n",
       "<table border=\"1\" class=\"dataframe\">\n",
       "  <thead>\n",
       "    <tr style=\"text-align: right;\">\n",
       "      <th></th>\n",
       "      <th>gender</th>\n",
       "      <th>age</th>\n",
       "      <th>id</th>\n",
       "      <th>became_member_on</th>\n",
       "      <th>income</th>\n",
       "    </tr>\n",
       "  </thead>\n",
       "  <tbody>\n",
       "    <tr>\n",
       "      <th>0</th>\n",
       "      <td>None</td>\n",
       "      <td>118</td>\n",
       "      <td>68be06ca386d4c31939f3a4f0e3dd783</td>\n",
       "      <td>20170212</td>\n",
       "      <td>NaN</td>\n",
       "    </tr>\n",
       "    <tr>\n",
       "      <th>1</th>\n",
       "      <td>F</td>\n",
       "      <td>55</td>\n",
       "      <td>0610b486422d4921ae7d2bf64640c50b</td>\n",
       "      <td>20170715</td>\n",
       "      <td>112000.0</td>\n",
       "    </tr>\n",
       "    <tr>\n",
       "      <th>2</th>\n",
       "      <td>None</td>\n",
       "      <td>118</td>\n",
       "      <td>38fe809add3b4fcf9315a9694bb96ff5</td>\n",
       "      <td>20180712</td>\n",
       "      <td>NaN</td>\n",
       "    </tr>\n",
       "    <tr>\n",
       "      <th>3</th>\n",
       "      <td>F</td>\n",
       "      <td>75</td>\n",
       "      <td>78afa995795e4d85b5d9ceeca43f5fef</td>\n",
       "      <td>20170509</td>\n",
       "      <td>100000.0</td>\n",
       "    </tr>\n",
       "    <tr>\n",
       "      <th>4</th>\n",
       "      <td>None</td>\n",
       "      <td>118</td>\n",
       "      <td>a03223e636434f42ac4c3df47e8bac43</td>\n",
       "      <td>20170804</td>\n",
       "      <td>NaN</td>\n",
       "    </tr>\n",
       "  </tbody>\n",
       "</table>\n",
       "</div>"
      ],
      "text/plain": [
       "  gender  age                                id  became_member_on    income\n",
       "0   None  118  68be06ca386d4c31939f3a4f0e3dd783          20170212       NaN\n",
       "1      F   55  0610b486422d4921ae7d2bf64640c50b          20170715  112000.0\n",
       "2   None  118  38fe809add3b4fcf9315a9694bb96ff5          20180712       NaN\n",
       "3      F   75  78afa995795e4d85b5d9ceeca43f5fef          20170509  100000.0\n",
       "4   None  118  a03223e636434f42ac4c3df47e8bac43          20170804       NaN"
      ]
     },
     "execution_count": 9,
     "metadata": {},
     "output_type": "execute_result"
    }
   ],
   "source": [
    "profile.head()"
   ]
  },
  {
   "cell_type": "code",
   "execution_count": 10,
   "metadata": {},
   "outputs": [
    {
     "name": "stdout",
     "output_type": "stream",
     "text": [
      "<class 'pandas.core.frame.DataFrame'>\n",
      "RangeIndex: 17000 entries, 0 to 16999\n",
      "Data columns (total 5 columns):\n",
      " #   Column            Non-Null Count  Dtype  \n",
      "---  ------            --------------  -----  \n",
      " 0   gender            14825 non-null  object \n",
      " 1   age               17000 non-null  int64  \n",
      " 2   id                17000 non-null  object \n",
      " 3   became_member_on  17000 non-null  int64  \n",
      " 4   income            14825 non-null  float64\n",
      "dtypes: float64(1), int64(2), object(2)\n",
      "memory usage: 664.2+ KB\n"
     ]
    }
   ],
   "source": [
    "profile.info()"
   ]
  },
  {
   "cell_type": "markdown",
   "metadata": {},
   "source": [
    "### Cleaning Profile Data\n",
    "Instruction:\n",
    "1. rename id col name to customer_id.\n",
    "2. change age value 118 to nan.\n",
    "3. create readable date format in became_member_on column.\n",
    "4. drop rows with no gender, income, age data\n",
    "5. convert gender values to numeric 0s and 1s\n",
    "6. add start year and start month columns (for further analysis)"
   ]
  },
  {
   "cell_type": "code",
   "execution_count": 11,
   "metadata": {},
   "outputs": [],
   "source": [
    "# 1. rename id col name customer_id.\n",
    "profile.rename(columns={'id': 'customer_id'}, inplace=True)"
   ]
  },
  {
   "cell_type": "code",
   "execution_count": 12,
   "metadata": {},
   "outputs": [
    {
     "name": "stdout",
     "output_type": "stream",
     "text": [
      "gender                 0\n",
      "age                 2175\n",
      "customer_id         2175\n",
      "became_member_on    2175\n",
      "income                 0\n",
      "dtype: int64\n"
     ]
    }
   ],
   "source": [
    "# 2. change age value 118 to nan.\n",
    "print(profile.where(profile.age==118).count())\n",
    "profile.age.replace(118, np.nan, inplace=True)"
   ]
  },
  {
   "cell_type": "code",
   "execution_count": 13,
   "metadata": {},
   "outputs": [
    {
     "name": "stdout",
     "output_type": "stream",
     "text": [
      "2175\n"
     ]
    }
   ],
   "source": [
    "# 3. create readable date format for became_member_on column.\n",
    "print(len(profile[profile['gender'].isnull()].index))\n",
    "profile['became_member_on'] = pd.to_datetime(profile['became_member_on'], format='%Y%m%d')"
   ]
  },
  {
   "cell_type": "code",
   "execution_count": 14,
   "metadata": {},
   "outputs": [],
   "source": [
    "# 4. drop rows with no gender, income, age data\n",
    "profile = profile.drop(profile[profile['gender'].isnull()].index)"
   ]
  },
  {
   "cell_type": "code",
   "execution_count": 15,
   "metadata": {},
   "outputs": [],
   "source": [
    "# 5. Convert gender values to numeric 0s and 1s\n",
    "profile['gender'] = profile['gender'].apply(lambda x: 1 if x == 'M' else 0)"
   ]
  },
  {
   "cell_type": "code",
   "execution_count": 16,
   "metadata": {},
   "outputs": [],
   "source": [
    "# 6. add start_year column\n",
    "profile['start_year'] = profile.became_member_on.dt.year\n",
    "profile[\"start_month\"] = profile.became_member_on.dt.month"
   ]
  },
  {
   "cell_type": "code",
   "execution_count": 17,
   "metadata": {
    "scrolled": true
   },
   "outputs": [
    {
     "data": {
      "text/html": [
       "<div>\n",
       "<style scoped>\n",
       "    .dataframe tbody tr th:only-of-type {\n",
       "        vertical-align: middle;\n",
       "    }\n",
       "\n",
       "    .dataframe tbody tr th {\n",
       "        vertical-align: top;\n",
       "    }\n",
       "\n",
       "    .dataframe thead th {\n",
       "        text-align: right;\n",
       "    }\n",
       "</style>\n",
       "<table border=\"1\" class=\"dataframe\">\n",
       "  <thead>\n",
       "    <tr style=\"text-align: right;\">\n",
       "      <th></th>\n",
       "      <th>gender</th>\n",
       "      <th>age</th>\n",
       "      <th>customer_id</th>\n",
       "      <th>became_member_on</th>\n",
       "      <th>income</th>\n",
       "      <th>start_year</th>\n",
       "      <th>start_month</th>\n",
       "    </tr>\n",
       "  </thead>\n",
       "  <tbody>\n",
       "    <tr>\n",
       "      <th>1</th>\n",
       "      <td>0</td>\n",
       "      <td>55.0</td>\n",
       "      <td>0610b486422d4921ae7d2bf64640c50b</td>\n",
       "      <td>2017-07-15</td>\n",
       "      <td>112000.0</td>\n",
       "      <td>2017</td>\n",
       "      <td>7</td>\n",
       "    </tr>\n",
       "    <tr>\n",
       "      <th>3</th>\n",
       "      <td>0</td>\n",
       "      <td>75.0</td>\n",
       "      <td>78afa995795e4d85b5d9ceeca43f5fef</td>\n",
       "      <td>2017-05-09</td>\n",
       "      <td>100000.0</td>\n",
       "      <td>2017</td>\n",
       "      <td>5</td>\n",
       "    </tr>\n",
       "    <tr>\n",
       "      <th>5</th>\n",
       "      <td>1</td>\n",
       "      <td>68.0</td>\n",
       "      <td>e2127556f4f64592b11af22de27a7932</td>\n",
       "      <td>2018-04-26</td>\n",
       "      <td>70000.0</td>\n",
       "      <td>2018</td>\n",
       "      <td>4</td>\n",
       "    </tr>\n",
       "    <tr>\n",
       "      <th>8</th>\n",
       "      <td>1</td>\n",
       "      <td>65.0</td>\n",
       "      <td>389bc3fa690240e798340f5a15918d5c</td>\n",
       "      <td>2018-02-09</td>\n",
       "      <td>53000.0</td>\n",
       "      <td>2018</td>\n",
       "      <td>2</td>\n",
       "    </tr>\n",
       "    <tr>\n",
       "      <th>12</th>\n",
       "      <td>1</td>\n",
       "      <td>58.0</td>\n",
       "      <td>2eeac8d8feae4a8cad5a6af0499a211d</td>\n",
       "      <td>2017-11-11</td>\n",
       "      <td>51000.0</td>\n",
       "      <td>2017</td>\n",
       "      <td>11</td>\n",
       "    </tr>\n",
       "  </tbody>\n",
       "</table>\n",
       "</div>"
      ],
      "text/plain": [
       "    gender   age                       customer_id became_member_on    income  \\\n",
       "1        0  55.0  0610b486422d4921ae7d2bf64640c50b       2017-07-15  112000.0   \n",
       "3        0  75.0  78afa995795e4d85b5d9ceeca43f5fef       2017-05-09  100000.0   \n",
       "5        1  68.0  e2127556f4f64592b11af22de27a7932       2018-04-26   70000.0   \n",
       "8        1  65.0  389bc3fa690240e798340f5a15918d5c       2018-02-09   53000.0   \n",
       "12       1  58.0  2eeac8d8feae4a8cad5a6af0499a211d       2017-11-11   51000.0   \n",
       "\n",
       "    start_year  start_month  \n",
       "1         2017            7  \n",
       "3         2017            5  \n",
       "5         2018            4  \n",
       "8         2018            2  \n",
       "12        2017           11  "
      ]
     },
     "execution_count": 17,
     "metadata": {},
     "output_type": "execute_result"
    }
   ],
   "source": [
    "profile.head()"
   ]
  },
  {
   "cell_type": "markdown",
   "metadata": {},
   "source": [
    "### 3. Transcript Data\n",
    "#### Dataset column description :\n",
    "\n",
    "**transcript.json**\n",
    "\n",
    "- person (str) - customer id\n",
    "- event (str) - record description (ie transaction, offer received, offer viewed, etc.)\n",
    "- value - (dict of strings) - either an offer id or transaction amount depending on the record\n",
    "- time (int) - time in hours since start of test. The data begins at time t=0"
   ]
  },
  {
   "cell_type": "code",
   "execution_count": 18,
   "metadata": {
    "scrolled": true
   },
   "outputs": [
    {
     "name": "stdout",
     "output_type": "stream",
     "text": [
      "<class 'pandas.core.frame.DataFrame'>\n",
      "RangeIndex: 306534 entries, 0 to 306533\n",
      "Data columns (total 4 columns):\n",
      " #   Column  Non-Null Count   Dtype \n",
      "---  ------  --------------   ----- \n",
      " 0   person  306534 non-null  object\n",
      " 1   event   306534 non-null  object\n",
      " 2   value   306534 non-null  object\n",
      " 3   time    306534 non-null  int64 \n",
      "dtypes: int64(1), object(3)\n",
      "memory usage: 9.4+ MB\n"
     ]
    }
   ],
   "source": [
    "transcript.info()"
   ]
  },
  {
   "cell_type": "code",
   "execution_count": 19,
   "metadata": {
    "scrolled": true
   },
   "outputs": [
    {
     "data": {
      "text/html": [
       "<div>\n",
       "<style scoped>\n",
       "    .dataframe tbody tr th:only-of-type {\n",
       "        vertical-align: middle;\n",
       "    }\n",
       "\n",
       "    .dataframe tbody tr th {\n",
       "        vertical-align: top;\n",
       "    }\n",
       "\n",
       "    .dataframe thead th {\n",
       "        text-align: right;\n",
       "    }\n",
       "</style>\n",
       "<table border=\"1\" class=\"dataframe\">\n",
       "  <thead>\n",
       "    <tr style=\"text-align: right;\">\n",
       "      <th></th>\n",
       "      <th>person</th>\n",
       "      <th>event</th>\n",
       "      <th>value</th>\n",
       "      <th>time</th>\n",
       "    </tr>\n",
       "  </thead>\n",
       "  <tbody>\n",
       "    <tr>\n",
       "      <th>0</th>\n",
       "      <td>78afa995795e4d85b5d9ceeca43f5fef</td>\n",
       "      <td>offer received</td>\n",
       "      <td>{'offer id': '9b98b8c7a33c4b65b9aebfe6a799e6d9'}</td>\n",
       "      <td>0</td>\n",
       "    </tr>\n",
       "    <tr>\n",
       "      <th>1</th>\n",
       "      <td>a03223e636434f42ac4c3df47e8bac43</td>\n",
       "      <td>offer received</td>\n",
       "      <td>{'offer id': '0b1e1539f2cc45b7b9fa7c272da2e1d7'}</td>\n",
       "      <td>0</td>\n",
       "    </tr>\n",
       "    <tr>\n",
       "      <th>2</th>\n",
       "      <td>e2127556f4f64592b11af22de27a7932</td>\n",
       "      <td>offer received</td>\n",
       "      <td>{'offer id': '2906b810c7d4411798c6938adc9daaa5'}</td>\n",
       "      <td>0</td>\n",
       "    </tr>\n",
       "    <tr>\n",
       "      <th>3</th>\n",
       "      <td>8ec6ce2a7e7949b1bf142def7d0e0586</td>\n",
       "      <td>offer received</td>\n",
       "      <td>{'offer id': 'fafdcd668e3743c1bb461111dcafc2a4'}</td>\n",
       "      <td>0</td>\n",
       "    </tr>\n",
       "    <tr>\n",
       "      <th>4</th>\n",
       "      <td>68617ca6246f4fbc85e91a2a49552598</td>\n",
       "      <td>offer received</td>\n",
       "      <td>{'offer id': '4d5c57ea9a6940dd891ad53e9dbe8da0'}</td>\n",
       "      <td>0</td>\n",
       "    </tr>\n",
       "  </tbody>\n",
       "</table>\n",
       "</div>"
      ],
      "text/plain": [
       "                             person           event  \\\n",
       "0  78afa995795e4d85b5d9ceeca43f5fef  offer received   \n",
       "1  a03223e636434f42ac4c3df47e8bac43  offer received   \n",
       "2  e2127556f4f64592b11af22de27a7932  offer received   \n",
       "3  8ec6ce2a7e7949b1bf142def7d0e0586  offer received   \n",
       "4  68617ca6246f4fbc85e91a2a49552598  offer received   \n",
       "\n",
       "                                              value  time  \n",
       "0  {'offer id': '9b98b8c7a33c4b65b9aebfe6a799e6d9'}     0  \n",
       "1  {'offer id': '0b1e1539f2cc45b7b9fa7c272da2e1d7'}     0  \n",
       "2  {'offer id': '2906b810c7d4411798c6938adc9daaa5'}     0  \n",
       "3  {'offer id': 'fafdcd668e3743c1bb461111dcafc2a4'}     0  \n",
       "4  {'offer id': '4d5c57ea9a6940dd891ad53e9dbe8da0'}     0  "
      ]
     },
     "execution_count": 19,
     "metadata": {},
     "output_type": "execute_result"
    }
   ],
   "source": [
    "transcript.head()"
   ]
  },
  {
   "cell_type": "markdown",
   "metadata": {},
   "source": [
    "### Cleaning Transcript Data\n",
    "Instruction:\n",
    "1. rename person col name to customer_id.\n",
    "2. create separate columns for amount and offer_id from value col.\n",
    "3. drop transaction rows whose customer_id is not in profile:customer_id\n",
    "4. convert time in hours to time in days\n",
    "5. segregate offer and transaction data \n",
    "6. finally drop duplicates if any"
   ]
  },
  {
   "cell_type": "code",
   "execution_count": 20,
   "metadata": {},
   "outputs": [],
   "source": [
    "# 1. rename person col name to customer_id.\n",
    "transcript.rename(columns={'person': 'customer_id'}, inplace=True)"
   ]
  },
  {
   "cell_type": "code",
   "execution_count": 21,
   "metadata": {
    "scrolled": true
   },
   "outputs": [
    {
     "data": {
      "text/plain": [
       "0          NaN\n",
       "1          NaN\n",
       "2          NaN\n",
       "3          NaN\n",
       "4          NaN\n",
       "          ... \n",
       "306529    1.59\n",
       "306530    9.53\n",
       "306531    3.61\n",
       "306532    3.53\n",
       "306533    4.05\n",
       "Name: amount, Length: 306534, dtype: float64"
      ]
     },
     "execution_count": 21,
     "metadata": {},
     "output_type": "execute_result"
    }
   ],
   "source": [
    "# 2. create separate columns for amount and offer_id from value col.\n",
    "\n",
    "def create_amount_col(val):\n",
    "    if list(val.keys())[0] in ['amount']:\n",
    "        return list(val.values())[0]\n",
    "\n",
    "def create_offer_id_col(val):\n",
    "    if list(val.keys())[0] in ['offer id', 'offer_id']:\n",
    "        return list(val.values())[0]\n",
    "      \n",
    "transcript['amount'] = transcript.value.apply(create_amount_col)\n",
    "transcript['offer_id'] = transcript.value.apply(create_offer_id_col)\n",
    "\n",
    "# drop value column\n",
    "transcript.drop(columns=['value'], inplace=True)\n",
    "\n",
    "# change amount column type to float\n",
    "transcript.amount.astype('float')"
   ]
  },
  {
   "cell_type": "code",
   "execution_count": 22,
   "metadata": {},
   "outputs": [],
   "source": [
    "# 3. drop transaction rows whose customer_id is not in profile:customer_id\n",
    "transcript = transcript[transcript.customer_id.isin(profile.customer_id)]\n",
    "\n",
    "# 4. convert time in hours to time in days\n",
    "transcript['time'] /= 24.0\n",
    "\n",
    "# drop the duplicated value, and reset the index\n",
    "transcript.drop_duplicates(inplace=True)\n",
    "\n",
    "transcript.reset_index(drop=True, inplace=True)"
   ]
  },
  {
   "cell_type": "code",
   "execution_count": 23,
   "metadata": {
    "scrolled": true
   },
   "outputs": [],
   "source": [
    "# 5. segregate offer and transaction data \n",
    "\n",
    "transaction_df = transcript[transcript.event=='transaction'].copy()\n",
    "transaction_df.drop(columns=['offer_id', 'event'], inplace=True)"
   ]
  },
  {
   "cell_type": "code",
   "execution_count": 24,
   "metadata": {},
   "outputs": [],
   "source": [
    "# 6. seggregate offer and transaction data \n",
    "\n",
    "# extract offer-related from transcript data\n",
    "offers_df = transcript[transcript.event!='transaction'].copy()\n",
    "\n",
    "# one-hot encode offer event\n",
    "offers_df['received'] = offers_df.event.apply(lambda x: 1 if x == 'offer received' else 0)\n",
    "offers_df['completed'] = offers_df.event.apply(lambda x: 1 if x == 'offer completed' else 0)\n",
    "offers_df['viewed'] = offers_df.event.apply(lambda x: 1 if x == 'offer viewed' else 0)\n",
    "\n",
    "offers_df.drop(columns=['event', 'amount'], inplace=True)"
   ]
  },
  {
   "cell_type": "markdown",
   "metadata": {},
   "source": [
    "## Exploratory Data Analysis"
   ]
  },
  {
   "cell_type": "markdown",
   "metadata": {},
   "source": [
    "#### Check for any missing values in each column"
   ]
  },
  {
   "cell_type": "code",
   "execution_count": 25,
   "metadata": {},
   "outputs": [
    {
     "data": {
      "text/plain": [
       "gender              0\n",
       "age                 0\n",
       "customer_id         0\n",
       "became_member_on    0\n",
       "income              0\n",
       "start_year          0\n",
       "start_month         0\n",
       "dtype: int64"
      ]
     },
     "execution_count": 25,
     "metadata": {},
     "output_type": "execute_result"
    }
   ],
   "source": [
    "profile.isnull().sum()"
   ]
  },
  {
   "cell_type": "markdown",
   "metadata": {},
   "source": [
    "#### Statistics of customer age and income attributes for specified income"
   ]
  },
  {
   "cell_type": "code",
   "execution_count": 26,
   "metadata": {},
   "outputs": [
    {
     "data": {
      "text/html": [
       "<div>\n",
       "<style scoped>\n",
       "    .dataframe tbody tr th:only-of-type {\n",
       "        vertical-align: middle;\n",
       "    }\n",
       "\n",
       "    .dataframe tbody tr th {\n",
       "        vertical-align: top;\n",
       "    }\n",
       "\n",
       "    .dataframe thead th {\n",
       "        text-align: right;\n",
       "    }\n",
       "</style>\n",
       "<table border=\"1\" class=\"dataframe\">\n",
       "  <thead>\n",
       "    <tr style=\"text-align: right;\">\n",
       "      <th></th>\n",
       "      <th>gender</th>\n",
       "      <th>age</th>\n",
       "      <th>income</th>\n",
       "      <th>start_year</th>\n",
       "      <th>start_month</th>\n",
       "    </tr>\n",
       "  </thead>\n",
       "  <tbody>\n",
       "    <tr>\n",
       "      <th>count</th>\n",
       "      <td>14825.000000</td>\n",
       "      <td>14825.000000</td>\n",
       "      <td>14825.000000</td>\n",
       "      <td>14825.000000</td>\n",
       "      <td>14825.000000</td>\n",
       "    </tr>\n",
       "    <tr>\n",
       "      <th>mean</th>\n",
       "      <td>0.572277</td>\n",
       "      <td>54.393524</td>\n",
       "      <td>65404.991568</td>\n",
       "      <td>2016.620169</td>\n",
       "      <td>6.695582</td>\n",
       "    </tr>\n",
       "    <tr>\n",
       "      <th>std</th>\n",
       "      <td>0.494765</td>\n",
       "      <td>17.383705</td>\n",
       "      <td>21598.299410</td>\n",
       "      <td>1.198245</td>\n",
       "      <td>3.488853</td>\n",
       "    </tr>\n",
       "    <tr>\n",
       "      <th>min</th>\n",
       "      <td>0.000000</td>\n",
       "      <td>18.000000</td>\n",
       "      <td>30000.000000</td>\n",
       "      <td>2013.000000</td>\n",
       "      <td>1.000000</td>\n",
       "    </tr>\n",
       "    <tr>\n",
       "      <th>25%</th>\n",
       "      <td>0.000000</td>\n",
       "      <td>42.000000</td>\n",
       "      <td>49000.000000</td>\n",
       "      <td>2016.000000</td>\n",
       "      <td>4.000000</td>\n",
       "    </tr>\n",
       "    <tr>\n",
       "      <th>50%</th>\n",
       "      <td>1.000000</td>\n",
       "      <td>55.000000</td>\n",
       "      <td>64000.000000</td>\n",
       "      <td>2017.000000</td>\n",
       "      <td>7.000000</td>\n",
       "    </tr>\n",
       "    <tr>\n",
       "      <th>75%</th>\n",
       "      <td>1.000000</td>\n",
       "      <td>66.000000</td>\n",
       "      <td>80000.000000</td>\n",
       "      <td>2017.000000</td>\n",
       "      <td>10.000000</td>\n",
       "    </tr>\n",
       "    <tr>\n",
       "      <th>max</th>\n",
       "      <td>1.000000</td>\n",
       "      <td>101.000000</td>\n",
       "      <td>120000.000000</td>\n",
       "      <td>2018.000000</td>\n",
       "      <td>12.000000</td>\n",
       "    </tr>\n",
       "  </tbody>\n",
       "</table>\n",
       "</div>"
      ],
      "text/plain": [
       "             gender           age         income    start_year   start_month\n",
       "count  14825.000000  14825.000000   14825.000000  14825.000000  14825.000000\n",
       "mean       0.572277     54.393524   65404.991568   2016.620169      6.695582\n",
       "std        0.494765     17.383705   21598.299410      1.198245      3.488853\n",
       "min        0.000000     18.000000   30000.000000   2013.000000      1.000000\n",
       "25%        0.000000     42.000000   49000.000000   2016.000000      4.000000\n",
       "50%        1.000000     55.000000   64000.000000   2017.000000      7.000000\n",
       "75%        1.000000     66.000000   80000.000000   2017.000000     10.000000\n",
       "max        1.000000    101.000000  120000.000000   2018.000000     12.000000"
      ]
     },
     "execution_count": 26,
     "metadata": {},
     "output_type": "execute_result"
    }
   ],
   "source": [
    "profile[profile['income'].notnull()].describe()"
   ]
  },
  {
   "cell_type": "markdown",
   "metadata": {},
   "source": [
    "#### Computing gender distribution in profile data"
   ]
  },
  {
   "cell_type": "code",
   "execution_count": 27,
   "metadata": {},
   "outputs": [
    {
     "data": {
      "text/plain": [
       "1    8484\n",
       "0    6341\n",
       "Name: gender, dtype: int64"
      ]
     },
     "execution_count": 27,
     "metadata": {},
     "output_type": "execute_result"
    }
   ],
   "source": [
    "profile.gender.value_counts()"
   ]
  },
  {
   "cell_type": "markdown",
   "metadata": {},
   "source": [
    "#### Computing the percent of customers vs which year enrolled as a member in the database"
   ]
  },
  {
   "cell_type": "code",
   "execution_count": 28,
   "metadata": {},
   "outputs": [
    {
     "data": {
      "text/plain": [
       "2017    37.767285\n",
       "2018    24.748735\n",
       "2016    20.397976\n",
       "2015    10.772344\n",
       "2014     4.465430\n",
       "2013     1.848229\n",
       "Name: start_year, dtype: float64"
      ]
     },
     "execution_count": 28,
     "metadata": {},
     "output_type": "execute_result"
    }
   ],
   "source": [
    "year_count = profile['start_year'].value_counts()\n",
    "\n",
    "year_count *= 100 / year_count.sum()\n",
    "year_count"
   ]
  },
  {
   "cell_type": "markdown",
   "metadata": {},
   "source": [
    "#### Compute what percent of customers vs which month enrolled as a member"
   ]
  },
  {
   "cell_type": "code",
   "execution_count": 29,
   "metadata": {},
   "outputs": [
    {
     "data": {
      "text/plain": [
       "1     1327.0\n",
       "2     1042.0\n",
       "3     1145.0\n",
       "4     1145.0\n",
       "5     1152.0\n",
       "6     1105.0\n",
       "7     1189.0\n",
       "8     1395.0\n",
       "9     1299.0\n",
       "10    1386.0\n",
       "11    1268.0\n",
       "12    1372.0\n",
       "Name: became_member_on, dtype: float64"
      ]
     },
     "execution_count": 29,
     "metadata": {},
     "output_type": "execute_result"
    }
   ],
   "source": [
    "month_count = profile['became_member_on'].apply(lambda date: date.month).value_counts()\n",
    "\n",
    "month_count *= 100 / year_count.sum()\n",
    "month_count.sort_index()"
   ]
  },
  {
   "cell_type": "markdown",
   "metadata": {},
   "source": [
    "#### Age, Income and  Members General Distribution"
   ]
  },
  {
   "cell_type": "code",
   "execution_count": 30,
   "metadata": {},
   "outputs": [
    {
     "data": {
      "text/plain": [
       "Text(0.5, 1.0, 'Membership distribution with joining year')"
      ]
     },
     "execution_count": 30,
     "metadata": {},
     "output_type": "execute_result"
    },
    {
     "data": {
      "image/png": "[encoded data removed]",
      "text/plain": [
       "<Figure size 1080x288 with 3 Axes>"
      ]
     },
     "metadata": {
      "needs_background": "light"
     },
     "output_type": "display_data"
    }
   ],
   "source": [
    "# to be able to draw three subplots in a row\n",
    "fig, ax = plt.subplots(figsize=(15, 4), nrows=1, ncols=3)\n",
    "\n",
    "# plot a income distribution in data\n",
    "plt.sca(ax[0])\n",
    "plt.hist(profile['income'] * 1E-3 )\n",
    "plt.xlabel('Income [10K]')\n",
    "plt.ylabel('Count')\n",
    "plt.title('Income Distribution')\n",
    "\n",
    "# plot a age distribution in data\n",
    "plt.sca(ax[1])\n",
    "plt.hist(profile['age'])\n",
    "plt.xlabel('Age')\n",
    "plt.ylabel('Count')\n",
    "plt.title('Age Distribution')\n",
    "\n",
    "# plot a start_year distribution\n",
    "plt.sca(ax[2])\n",
    "plt.hist(profile['start_year'])\n",
    "plt.xlabel('start year')\n",
    "plt.ylabel('Count')\n",
    "plt.title('Membership distribution with joining year')"
   ]
  },
  {
   "cell_type": "markdown",
   "metadata": {},
   "source": [
    "The age distribution plot shows that the median age of a customer is 60, and the majority of our consumers are between the ages of 40 and 70. The number of customers with an average salary of less than 75K is higher than the number of customers with an average salary of $75,000, which is the median of the income distribution. The findings of membership distribution are intriguing: since 2013, 2017 has seen the highest number of registered clients. Except for 2017, the plot also indicates a rising trend in the number of registrations."
   ]
  },
  {
   "cell_type": "markdown",
   "metadata": {},
   "source": [
    "#### Income distribution: : Male vs Female"
   ]
  },
  {
   "cell_type": "code",
   "execution_count": 31,
   "metadata": {},
   "outputs": [
    {
     "name": "stderr",
     "output_type": "stream",
     "text": [
      "C:\\Users\\dhand\\anaconda3\\lib\\site-packages\\seaborn\\distributions.py:2557: FutureWarning: `distplot` is a deprecated function and will be removed in a future version. Please adapt your code to use either `displot` (a figure-level function with similar flexibility) or `histplot` (an axes-level function for histograms).\n",
      "  warnings.warn(msg, FutureWarning)\n",
      "C:\\Users\\dhand\\anaconda3\\lib\\site-packages\\seaborn\\distributions.py:2557: FutureWarning: `distplot` is a deprecated function and will be removed in a future version. Please adapt your code to use either `displot` (a figure-level function with similar flexibility) or `histplot` (an axes-level function for histograms).\n",
      "  warnings.warn(msg, FutureWarning)\n"
     ]
    },
    {
     "data": {
      "image/png": "[encoded data removed]",
      "text/plain": [
       "<Figure size 720x288 with 2 Axes>"
      ]
     },
     "metadata": {
      "needs_background": "light"
     },
     "output_type": "display_data"
    }
   ],
   "source": [
    "# extract male and female customers\n",
    "male_customers = profile[profile['gender'] == 0]\n",
    "female_customers = profile[profile['gender'] == 1]\n",
    "\n",
    "# to be able to draw two subplots in a row\n",
    "fig, ax = plt.subplots(figsize=(10, 4), nrows=1, ncols=2, sharex=True, sharey=True)\n",
    "\n",
    "# plot a male customers income distribution\n",
    "plt.sca(ax[0])\n",
    "sns.distplot(male_customers['income'] * 1E-3)\n",
    "plt.xlabel('Income [10K]')\n",
    "plt.ylabel('Income')\n",
    "plt.title('Male Customer Income')\n",
    "\n",
    "# plot a female customers income distribution\n",
    "plt.sca(ax[1])\n",
    "sns.distplot(female_customers['income'] * 1E-3)\n",
    "plt.xlabel('Income [10K]')\n",
    "plt.ylabel('Income')\n",
    "plt.title('Female Customer Income');"
   ]
  },
  {
   "cell_type": "markdown",
   "metadata": {},
   "source": [
    "The graphs show that male and female consumers have similar minimum and maximum incomes, but that the number of male customers in the low-income category is slightly higher than that of female customers."
   ]
  },
  {
   "cell_type": "markdown",
   "metadata": {},
   "source": [
    "#### Age distribution: Male vs Female"
   ]
  },
  {
   "cell_type": "code",
   "execution_count": 32,
   "metadata": {
    "scrolled": true
   },
   "outputs": [
    {
     "data": {
      "image/png": "[encoded data removed]",
      "text/plain": [
       "<Figure size 720x360 with 1 Axes>"
      ]
     },
     "metadata": {
      "needs_background": "light"
     },
     "output_type": "display_data"
    }
   ],
   "source": [
    "# groupby start_year and gender to plot a graph\n",
    "membership_date_ = profile.groupby(['start_year', 'gender']).size()\n",
    "membership_date_ = membership_date_.reset_index()\n",
    "membership_date_.columns = ['start_year', 'gender', 'count']\n",
    "\n",
    "# plot a bar graph for age distribution as a function of gender in membership program\n",
    "plt.figure(figsize=(10, 5))\n",
    "sns.barplot(x='start_year', y='count', hue='gender', data=membership_date_)\n",
    "plt.xlabel('Membership Start Year')\n",
    "plt.ylabel('Count');"
   ]
  },
  {
   "cell_type": "markdown",
   "metadata": {},
   "source": [
    "The results suggest that most customers joined the Starbucks rewards program in 2017 followed by 2018. Plots also depict that there are more male customers joining the program every year."
   ]
  },
  {
   "cell_type": "markdown",
   "metadata": {},
   "source": [
    "#### offer_ids were having the highest counts"
   ]
  },
  {
   "cell_type": "code",
   "execution_count": 33,
   "metadata": {},
   "outputs": [
    {
     "data": {
      "text/html": [
       "<div>\n",
       "<style scoped>\n",
       "    .dataframe tbody tr th:only-of-type {\n",
       "        vertical-align: middle;\n",
       "    }\n",
       "\n",
       "    .dataframe tbody tr th {\n",
       "        vertical-align: top;\n",
       "    }\n",
       "\n",
       "    .dataframe thead th {\n",
       "        text-align: right;\n",
       "    }\n",
       "</style>\n",
       "<table border=\"1\" class=\"dataframe\">\n",
       "  <thead>\n",
       "    <tr style=\"text-align: right;\">\n",
       "      <th></th>\n",
       "      <th>customer_id</th>\n",
       "      <th>time</th>\n",
       "      <th>offer_id</th>\n",
       "      <th>received</th>\n",
       "      <th>completed</th>\n",
       "      <th>viewed</th>\n",
       "      <th>offer_id_</th>\n",
       "    </tr>\n",
       "  </thead>\n",
       "  <tbody>\n",
       "    <tr>\n",
       "      <th>0</th>\n",
       "      <td>78afa995795e4d85b5d9ceeca43f5fef</td>\n",
       "      <td>0.0</td>\n",
       "      <td>9b98b8c7a33c4b65b9aebfe6a799e6d9</td>\n",
       "      <td>1</td>\n",
       "      <td>0</td>\n",
       "      <td>0</td>\n",
       "      <td>9b98b8c7a33c4b65b9aebfe6a799e6d9</td>\n",
       "    </tr>\n",
       "    <tr>\n",
       "      <th>1</th>\n",
       "      <td>e2127556f4f64592b11af22de27a7932</td>\n",
       "      <td>0.0</td>\n",
       "      <td>2906b810c7d4411798c6938adc9daaa5</td>\n",
       "      <td>1</td>\n",
       "      <td>0</td>\n",
       "      <td>0</td>\n",
       "      <td>2906b810c7d4411798c6938adc9daaa5</td>\n",
       "    </tr>\n",
       "    <tr>\n",
       "      <th>2</th>\n",
       "      <td>389bc3fa690240e798340f5a15918d5c</td>\n",
       "      <td>0.0</td>\n",
       "      <td>f19421c1d4aa40978ebb69ca19b0e20d</td>\n",
       "      <td>1</td>\n",
       "      <td>0</td>\n",
       "      <td>0</td>\n",
       "      <td>f19421c1d4aa40978ebb69ca19b0e20d</td>\n",
       "    </tr>\n",
       "    <tr>\n",
       "      <th>3</th>\n",
       "      <td>2eeac8d8feae4a8cad5a6af0499a211d</td>\n",
       "      <td>0.0</td>\n",
       "      <td>3f207df678b143eea3cee63160fa8bed</td>\n",
       "      <td>1</td>\n",
       "      <td>0</td>\n",
       "      <td>0</td>\n",
       "      <td>3f207df678b143eea3cee63160fa8bed</td>\n",
       "    </tr>\n",
       "    <tr>\n",
       "      <th>4</th>\n",
       "      <td>aa4862eba776480b8bb9c68455b8c2e1</td>\n",
       "      <td>0.0</td>\n",
       "      <td>0b1e1539f2cc45b7b9fa7c272da2e1d7</td>\n",
       "      <td>1</td>\n",
       "      <td>0</td>\n",
       "      <td>0</td>\n",
       "      <td>0b1e1539f2cc45b7b9fa7c272da2e1d7</td>\n",
       "    </tr>\n",
       "  </tbody>\n",
       "</table>\n",
       "</div>"
      ],
      "text/plain": [
       "                        customer_id  time                          offer_id  \\\n",
       "0  78afa995795e4d85b5d9ceeca43f5fef   0.0  9b98b8c7a33c4b65b9aebfe6a799e6d9   \n",
       "1  e2127556f4f64592b11af22de27a7932   0.0  2906b810c7d4411798c6938adc9daaa5   \n",
       "2  389bc3fa690240e798340f5a15918d5c   0.0  f19421c1d4aa40978ebb69ca19b0e20d   \n",
       "3  2eeac8d8feae4a8cad5a6af0499a211d   0.0  3f207df678b143eea3cee63160fa8bed   \n",
       "4  aa4862eba776480b8bb9c68455b8c2e1   0.0  0b1e1539f2cc45b7b9fa7c272da2e1d7   \n",
       "\n",
       "   received  completed  viewed                         offer_id_  \n",
       "0         1          0       0  9b98b8c7a33c4b65b9aebfe6a799e6d9  \n",
       "1         1          0       0  2906b810c7d4411798c6938adc9daaa5  \n",
       "2         1          0       0  f19421c1d4aa40978ebb69ca19b0e20d  \n",
       "3         1          0       0  3f207df678b143eea3cee63160fa8bed  \n",
       "4         1          0       0  0b1e1539f2cc45b7b9fa7c272da2e1d7  "
      ]
     },
     "execution_count": 33,
     "metadata": {},
     "output_type": "execute_result"
    }
   ],
   "source": [
    "offer_id_ = offers_df['offer_id'].unique()\n",
    "offer_dict = pd.Series(offer_id_).to_dict()\n",
    "offer_dict = dict([(value, key) for key, value in offer_dict.items()]) \n",
    "offers_df['offer_id_'] = offers_df['offer_id'].map(offer_dict)\n",
    "offers_df['offer_id_'] = offers_df['offer_id'].replace(1, np.nan)\n",
    "offers_df.head()"
   ]
  },
  {
   "cell_type": "code",
   "execution_count": 34,
   "metadata": {},
   "outputs": [
    {
     "name": "stdout",
     "output_type": "stream",
     "text": [
      "0b1e1539f2cc45b7b9fa7c272da2e1d7    6726\n",
      "9b98b8c7a33c4b65b9aebfe6a799e6d9    6685\n",
      "ae264e3637204a6fb9bb56bc8210ddfd    6683\n",
      "3f207df678b143eea3cee63160fa8bed    6657\n",
      "2298d6c36e964ae4a3e7e9706d1fb8c2    6655\n",
      "fafdcd668e3743c1bb461111dcafc2a4    6652\n",
      "5a8bc65990b245e5a138643cd4eb9837    6643\n",
      "2906b810c7d4411798c6938adc9daaa5    6631\n",
      "4d5c57ea9a6940dd891ad53e9dbe8da0    6593\n",
      "f19421c1d4aa40978ebb69ca19b0e20d    6576\n",
      "Name: offer_id_, dtype: int64 fafdcd668e3743c1bb461111dcafc2a4    6407\n",
      "2298d6c36e964ae4a3e7e9706d1fb8c2    6379\n",
      "4d5c57ea9a6940dd891ad53e9dbe8da0    6329\n",
      "f19421c1d4aa40978ebb69ca19b0e20d    6310\n",
      "ae264e3637204a6fb9bb56bc8210ddfd    5901\n",
      "5a8bc65990b245e5a138643cd4eb9837    5873\n",
      "9b98b8c7a33c4b65b9aebfe6a799e6d9    3499\n",
      "3f207df678b143eea3cee63160fa8bed    3487\n",
      "2906b810c7d4411798c6938adc9daaa5    3460\n",
      "0b1e1539f2cc45b7b9fa7c272da2e1d7    2215\n",
      "Name: offer_id_, dtype: int64 fafdcd668e3743c1bb461111dcafc2a4    4957\n",
      "2298d6c36e964ae4a3e7e9706d1fb8c2    4847\n",
      "9b98b8c7a33c4b65b9aebfe6a799e6d9    4141\n",
      "f19421c1d4aa40978ebb69ca19b0e20d    4074\n",
      "2906b810c7d4411798c6938adc9daaa5    3860\n",
      "ae264e3637204a6fb9bb56bc8210ddfd    3604\n",
      "0b1e1539f2cc45b7b9fa7c272da2e1d7    3306\n",
      "4d5c57ea9a6940dd891ad53e9dbe8da0    3281\n",
      "Name: offer_id_, dtype: int64\n"
     ]
    }
   ],
   "source": [
    "offer_received = offers_df[offers_df['received'] == 1].offer_id_.value_counts()\n",
    "offer_viewed = offers_df[offers_df['viewed'] == 1].offer_id_.value_counts()\n",
    "offer_completed = offers_df[offers_df['completed'] == 1].offer_id_.value_counts()\n",
    "\n",
    "print(offer_received, offer_viewed, offer_completed)"
   ]
  },
  {
   "cell_type": "code",
   "execution_count": 35,
   "metadata": {
    "scrolled": true
   },
   "outputs": [
    {
     "data": {
      "image/png": "[encoded data removed]",
      "text/plain": [
       "<Figure size 1080x360 with 3 Axes>"
      ]
     },
     "metadata": {
      "needs_background": "light"
     },
     "output_type": "display_data"
    }
   ],
   "source": [
    "plt.subplot(131)\n",
    "offer_received = offers_df[offers_df['received'] == 1].offer_id_.value_counts()\n",
    "offer_received.plot(kind='bar', figsize=(15,5))\n",
    "plt.ylabel('counts')\n",
    "plt.xlabel('Offer Id ')\n",
    "plt.title('Offer received with Offer Id ');\n",
    "\n",
    "plt.subplot(132)\n",
    "offer_viewed = offers_df[offers_df['viewed'] == 1].offer_id_.value_counts()\n",
    "offer_viewed.plot(kind='bar' , figsize=(15,5))\n",
    "plt.ylabel('counts')\n",
    "plt.xlabel('Offer Id')\n",
    "plt.title('Offer viewed with Offer Id ');\n",
    "\n",
    "plt.subplot(133)\n",
    "offer_completed = offers_df[offers_df['completed'] == 1].offer_id_.value_counts()\n",
    "offer_completed.plot(kind='bar' , figsize=(15,5))\n",
    "plt.ylabel('counts')\n",
    "plt.xlabel('Offer Id')\n",
    "plt.title('Offer completed received with Offer Id ');"
   ]
  },
  {
   "cell_type": "markdown",
   "metadata": {},
   "source": [
    "#### Computing the event distribution"
   ]
  },
  {
   "cell_type": "code",
   "execution_count": 36,
   "metadata": {},
   "outputs": [
    {
     "name": "stdout",
     "output_type": "stream",
     "text": [
      "45.507511344112075 54.492488655887925\n"
     ]
    }
   ],
   "source": [
    "event_counts_ = transcript['event'].value_counts()\n",
    "total_transactions_ = event_counts_.sum()\n",
    "\n",
    "transactions_perc = 100 * event_counts_[0] / total_transactions_\n",
    "offers_perc = 100 * event_counts_[1:].sum() / total_transactions_\n",
    "\n",
    "print(transactions_perc, offers_perc)"
   ]
  },
  {
   "cell_type": "markdown",
   "metadata": {},
   "source": [
    "### Combine offer, customer and transactions data"
   ]
  },
  {
   "cell_type": "code",
   "execution_count": 37,
   "metadata": {},
   "outputs": [],
   "source": [
    "def combine_data(profile, portfolio, offers_df, transaction_df):\n",
    "    '''\n",
    "    This function combines the offer, customer and transaction dataset together   \n",
    "    Input: profile, portfolio, offers_df, transaction_df datasets\n",
    "    Output: combined data\n",
    "    \n",
    "    '''\n",
    "    \n",
    "    combined_data = []\n",
    "    customer_ids = offers_df['customer_id'].unique()\n",
    "    \n",
    "    widgets=[\n",
    "        ' [', progressbar.Timer(), '] ',\n",
    "        progressbar.Bar(),\n",
    "        ' (', progressbar.ETA(), ') ',\n",
    "    ]\n",
    "    \n",
    "    for ind in progressbar.progressbar(range(len(customer_ids)), widgets=widgets):\n",
    "        cust_id = customer_ids[ind]\n",
    "        customer = profile[profile['customer_id']==cust_id]\n",
    "        cust_offer_data = offers_df[offers_df['customer_id']==cust_id]\n",
    "        cust_transaction_data = transaction_df[transaction_df['customer_id']==cust_id]\n",
    "        offer_received_data = cust_offer_data[cust_offer_data['received'] == 1]\n",
    "        offer_completed_data = cust_offer_data[cust_offer_data['completed'] == 1]\n",
    "        offer_viewed_data = cust_offer_data[cust_offer_data['viewed'] == 1]\n",
    "        \n",
    "        rows = []\n",
    "        for i in range(offer_received_data.shape[0]):\n",
    "            offer_id = offer_received_data.iloc[i]['offer_id']\n",
    "            offer_row = portfolio.loc[portfolio['offer_id'] == offer_id]\n",
    "            duration_days = offer_row['duration'].values[0]\n",
    "            start_time = offer_received_data.iloc[i]['time']\n",
    "            end_time = start_time + duration_days       \n",
    "            # combine offers completed within end date\n",
    "            off_completed_withintime = np.logical_and(\n",
    "                offer_completed_data['time'] >= start_time, offer_completed_data['time'] <= end_time)            \n",
    "            # combine offers viewed within end date\n",
    "            off_viewed_withintime = np.logical_and(\n",
    "                offer_viewed_data['time'] >= start_time, offer_viewed_data['time'] <=end_time)\n",
    "            offer_successful = off_completed_withintime.sum() > 0 and off_viewed_withintime.sum() > 0\n",
    "            transaction_withintime = np.logical_and(\n",
    "                cust_transaction_data['time'] >= start_time, cust_transaction_data['time'] <= end_time)        \n",
    "            transaction_data = cust_transaction_data[transaction_withintime]            \n",
    "            # total amount spent by a customer from given offers\n",
    "            transaction_total_amount = transaction_data['amount'].sum()            \n",
    "            row = {\n",
    "                'offer_id': offer_id,\n",
    "                'customer_id': cust_id,\n",
    "                'time': start_time,\n",
    "                'total_amount': transaction_total_amount,\n",
    "                'offer_successful': int(offer_successful),\n",
    "            }\n",
    "                \n",
    "            row.update(offer_row.iloc[0,0:].to_dict())\n",
    "\n",
    "            row.update(customer.iloc[0,:].to_dict())\n",
    "\n",
    "            rows.append(row)\n",
    "        \n",
    "        combined_data.extend(rows)\n",
    "    \n",
    "    combined_data = pd.DataFrame(combined_data)\n",
    "    return combined_data"
   ]
  },
  {
   "cell_type": "code",
   "execution_count": 38,
   "metadata": {
    "scrolled": true
   },
   "outputs": [
    {
     "name": "stderr",
     "output_type": "stream",
     "text": [
      " [Elapsed Time: 0:09:39] |##################################| (Time:  0:09:39) \n"
     ]
    }
   ],
   "source": [
    "final_data = combine_data(profile, portfolio, offers_df, transaction_df)"
   ]
  },
  {
   "cell_type": "code",
   "execution_count": 39,
   "metadata": {
    "scrolled": true
   },
   "outputs": [
    {
     "data": {
      "text/html": [
       "<div>\n",
       "<style scoped>\n",
       "    .dataframe tbody tr th:only-of-type {\n",
       "        vertical-align: middle;\n",
       "    }\n",
       "\n",
       "    .dataframe tbody tr th {\n",
       "        vertical-align: top;\n",
       "    }\n",
       "\n",
       "    .dataframe thead th {\n",
       "        text-align: right;\n",
       "    }\n",
       "</style>\n",
       "<table border=\"1\" class=\"dataframe\">\n",
       "  <thead>\n",
       "    <tr style=\"text-align: right;\">\n",
       "      <th></th>\n",
       "      <th>time</th>\n",
       "      <th>offer_id</th>\n",
       "      <th>customer_id</th>\n",
       "      <th>total_amount</th>\n",
       "      <th>offer_successful</th>\n",
       "      <th>difficulty</th>\n",
       "      <th>duration</th>\n",
       "      <th>reward</th>\n",
       "      <th>bogo</th>\n",
       "      <th>discount</th>\n",
       "      <th>...</th>\n",
       "      <th>email</th>\n",
       "      <th>mobile</th>\n",
       "      <th>social</th>\n",
       "      <th>web</th>\n",
       "      <th>became_member_on</th>\n",
       "      <th>gender</th>\n",
       "      <th>income</th>\n",
       "      <th>age</th>\n",
       "      <th>start_year</th>\n",
       "      <th>start_month</th>\n",
       "    </tr>\n",
       "  </thead>\n",
       "  <tbody>\n",
       "    <tr>\n",
       "      <th>0</th>\n",
       "      <td>0.0</td>\n",
       "      <td>9b98b8c7a33c4b65b9aebfe6a799e6d9</td>\n",
       "      <td>78afa995795e4d85b5d9ceeca43f5fef</td>\n",
       "      <td>37.67</td>\n",
       "      <td>1</td>\n",
       "      <td>5</td>\n",
       "      <td>7</td>\n",
       "      <td>5</td>\n",
       "      <td>1.0</td>\n",
       "      <td>0.0</td>\n",
       "      <td>...</td>\n",
       "      <td>1.0</td>\n",
       "      <td>1.0</td>\n",
       "      <td>0.0</td>\n",
       "      <td>1.0</td>\n",
       "      <td>2017-05-09</td>\n",
       "      <td>0</td>\n",
       "      <td>100000.0</td>\n",
       "      <td>75.0</td>\n",
       "      <td>2017</td>\n",
       "      <td>5</td>\n",
       "    </tr>\n",
       "    <tr>\n",
       "      <th>1</th>\n",
       "      <td>7.0</td>\n",
       "      <td>5a8bc65990b245e5a138643cd4eb9837</td>\n",
       "      <td>78afa995795e4d85b5d9ceeca43f5fef</td>\n",
       "      <td>49.39</td>\n",
       "      <td>0</td>\n",
       "      <td>0</td>\n",
       "      <td>3</td>\n",
       "      <td>0</td>\n",
       "      <td>0.0</td>\n",
       "      <td>0.0</td>\n",
       "      <td>...</td>\n",
       "      <td>1.0</td>\n",
       "      <td>1.0</td>\n",
       "      <td>1.0</td>\n",
       "      <td>0.0</td>\n",
       "      <td>2017-05-09</td>\n",
       "      <td>0</td>\n",
       "      <td>100000.0</td>\n",
       "      <td>75.0</td>\n",
       "      <td>2017</td>\n",
       "      <td>5</td>\n",
       "    </tr>\n",
       "    <tr>\n",
       "      <th>2</th>\n",
       "      <td>17.0</td>\n",
       "      <td>ae264e3637204a6fb9bb56bc8210ddfd</td>\n",
       "      <td>78afa995795e4d85b5d9ceeca43f5fef</td>\n",
       "      <td>48.28</td>\n",
       "      <td>1</td>\n",
       "      <td>10</td>\n",
       "      <td>7</td>\n",
       "      <td>10</td>\n",
       "      <td>1.0</td>\n",
       "      <td>0.0</td>\n",
       "      <td>...</td>\n",
       "      <td>1.0</td>\n",
       "      <td>1.0</td>\n",
       "      <td>1.0</td>\n",
       "      <td>0.0</td>\n",
       "      <td>2017-05-09</td>\n",
       "      <td>0</td>\n",
       "      <td>100000.0</td>\n",
       "      <td>75.0</td>\n",
       "      <td>2017</td>\n",
       "      <td>5</td>\n",
       "    </tr>\n",
       "    <tr>\n",
       "      <th>3</th>\n",
       "      <td>21.0</td>\n",
       "      <td>f19421c1d4aa40978ebb69ca19b0e20d</td>\n",
       "      <td>78afa995795e4d85b5d9ceeca43f5fef</td>\n",
       "      <td>48.28</td>\n",
       "      <td>1</td>\n",
       "      <td>5</td>\n",
       "      <td>5</td>\n",
       "      <td>5</td>\n",
       "      <td>1.0</td>\n",
       "      <td>0.0</td>\n",
       "      <td>...</td>\n",
       "      <td>1.0</td>\n",
       "      <td>1.0</td>\n",
       "      <td>1.0</td>\n",
       "      <td>1.0</td>\n",
       "      <td>2017-05-09</td>\n",
       "      <td>0</td>\n",
       "      <td>100000.0</td>\n",
       "      <td>75.0</td>\n",
       "      <td>2017</td>\n",
       "      <td>5</td>\n",
       "    </tr>\n",
       "    <tr>\n",
       "      <th>4</th>\n",
       "      <td>0.0</td>\n",
       "      <td>2906b810c7d4411798c6938adc9daaa5</td>\n",
       "      <td>e2127556f4f64592b11af22de27a7932</td>\n",
       "      <td>0.00</td>\n",
       "      <td>0</td>\n",
       "      <td>10</td>\n",
       "      <td>7</td>\n",
       "      <td>2</td>\n",
       "      <td>0.0</td>\n",
       "      <td>1.0</td>\n",
       "      <td>...</td>\n",
       "      <td>1.0</td>\n",
       "      <td>1.0</td>\n",
       "      <td>0.0</td>\n",
       "      <td>1.0</td>\n",
       "      <td>2018-04-26</td>\n",
       "      <td>1</td>\n",
       "      <td>70000.0</td>\n",
       "      <td>68.0</td>\n",
       "      <td>2018</td>\n",
       "      <td>4</td>\n",
       "    </tr>\n",
       "    <tr>\n",
       "      <th>...</th>\n",
       "      <td>...</td>\n",
       "      <td>...</td>\n",
       "      <td>...</td>\n",
       "      <td>...</td>\n",
       "      <td>...</td>\n",
       "      <td>...</td>\n",
       "      <td>...</td>\n",
       "      <td>...</td>\n",
       "      <td>...</td>\n",
       "      <td>...</td>\n",
       "      <td>...</td>\n",
       "      <td>...</td>\n",
       "      <td>...</td>\n",
       "      <td>...</td>\n",
       "      <td>...</td>\n",
       "      <td>...</td>\n",
       "      <td>...</td>\n",
       "      <td>...</td>\n",
       "      <td>...</td>\n",
       "      <td>...</td>\n",
       "      <td>...</td>\n",
       "    </tr>\n",
       "    <tr>\n",
       "      <th>66496</th>\n",
       "      <td>24.0</td>\n",
       "      <td>2906b810c7d4411798c6938adc9daaa5</td>\n",
       "      <td>3cc622f76e464bc1809a71e871579d6c</td>\n",
       "      <td>34.04</td>\n",
       "      <td>0</td>\n",
       "      <td>10</td>\n",
       "      <td>7</td>\n",
       "      <td>2</td>\n",
       "      <td>0.0</td>\n",
       "      <td>1.0</td>\n",
       "      <td>...</td>\n",
       "      <td>1.0</td>\n",
       "      <td>1.0</td>\n",
       "      <td>0.0</td>\n",
       "      <td>1.0</td>\n",
       "      <td>2017-08-20</td>\n",
       "      <td>1</td>\n",
       "      <td>44000.0</td>\n",
       "      <td>59.0</td>\n",
       "      <td>2017</td>\n",
       "      <td>8</td>\n",
       "    </tr>\n",
       "    <tr>\n",
       "      <th>66497</th>\n",
       "      <td>24.0</td>\n",
       "      <td>5a8bc65990b245e5a138643cd4eb9837</td>\n",
       "      <td>01fe5ec668f241608eb2f7ec374cb1b7</td>\n",
       "      <td>19.92</td>\n",
       "      <td>0</td>\n",
       "      <td>0</td>\n",
       "      <td>3</td>\n",
       "      <td>0</td>\n",
       "      <td>0.0</td>\n",
       "      <td>0.0</td>\n",
       "      <td>...</td>\n",
       "      <td>1.0</td>\n",
       "      <td>1.0</td>\n",
       "      <td>1.0</td>\n",
       "      <td>0.0</td>\n",
       "      <td>2017-08-02</td>\n",
       "      <td>1</td>\n",
       "      <td>64000.0</td>\n",
       "      <td>44.0</td>\n",
       "      <td>2017</td>\n",
       "      <td>8</td>\n",
       "    </tr>\n",
       "    <tr>\n",
       "      <th>66498</th>\n",
       "      <td>24.0</td>\n",
       "      <td>9b98b8c7a33c4b65b9aebfe6a799e6d9</td>\n",
       "      <td>d825b707198046e39baa4fdcfa11d621</td>\n",
       "      <td>28.42</td>\n",
       "      <td>0</td>\n",
       "      <td>5</td>\n",
       "      <td>7</td>\n",
       "      <td>5</td>\n",
       "      <td>1.0</td>\n",
       "      <td>0.0</td>\n",
       "      <td>...</td>\n",
       "      <td>1.0</td>\n",
       "      <td>1.0</td>\n",
       "      <td>0.0</td>\n",
       "      <td>1.0</td>\n",
       "      <td>2018-04-23</td>\n",
       "      <td>1</td>\n",
       "      <td>73000.0</td>\n",
       "      <td>61.0</td>\n",
       "      <td>2018</td>\n",
       "      <td>4</td>\n",
       "    </tr>\n",
       "    <tr>\n",
       "      <th>66499</th>\n",
       "      <td>24.0</td>\n",
       "      <td>2298d6c36e964ae4a3e7e9706d1fb8c2</td>\n",
       "      <td>c207a8a8ef5c47ee970ca45f859e07eb</td>\n",
       "      <td>75.84</td>\n",
       "      <td>1</td>\n",
       "      <td>7</td>\n",
       "      <td>7</td>\n",
       "      <td>3</td>\n",
       "      <td>0.0</td>\n",
       "      <td>1.0</td>\n",
       "      <td>...</td>\n",
       "      <td>1.0</td>\n",
       "      <td>1.0</td>\n",
       "      <td>1.0</td>\n",
       "      <td>1.0</td>\n",
       "      <td>2017-12-23</td>\n",
       "      <td>0</td>\n",
       "      <td>86000.0</td>\n",
       "      <td>52.0</td>\n",
       "      <td>2017</td>\n",
       "      <td>12</td>\n",
       "    </tr>\n",
       "    <tr>\n",
       "      <th>66500</th>\n",
       "      <td>24.0</td>\n",
       "      <td>2298d6c36e964ae4a3e7e9706d1fb8c2</td>\n",
       "      <td>9a3f45cf29ef428b932492c7a5d6ac52</td>\n",
       "      <td>14.25</td>\n",
       "      <td>1</td>\n",
       "      <td>7</td>\n",
       "      <td>7</td>\n",
       "      <td>3</td>\n",
       "      <td>0.0</td>\n",
       "      <td>1.0</td>\n",
       "      <td>...</td>\n",
       "      <td>1.0</td>\n",
       "      <td>1.0</td>\n",
       "      <td>1.0</td>\n",
       "      <td>1.0</td>\n",
       "      <td>2016-10-19</td>\n",
       "      <td>1</td>\n",
       "      <td>70000.0</td>\n",
       "      <td>20.0</td>\n",
       "      <td>2016</td>\n",
       "      <td>10</td>\n",
       "    </tr>\n",
       "  </tbody>\n",
       "</table>\n",
       "<p>66501 rows × 21 columns</p>\n",
       "</div>"
      ],
      "text/plain": [
       "       time                          offer_id  \\\n",
       "0       0.0  9b98b8c7a33c4b65b9aebfe6a799e6d9   \n",
       "1       7.0  5a8bc65990b245e5a138643cd4eb9837   \n",
       "2      17.0  ae264e3637204a6fb9bb56bc8210ddfd   \n",
       "3      21.0  f19421c1d4aa40978ebb69ca19b0e20d   \n",
       "4       0.0  2906b810c7d4411798c6938adc9daaa5   \n",
       "...     ...                               ...   \n",
       "66496  24.0  2906b810c7d4411798c6938adc9daaa5   \n",
       "66497  24.0  5a8bc65990b245e5a138643cd4eb9837   \n",
       "66498  24.0  9b98b8c7a33c4b65b9aebfe6a799e6d9   \n",
       "66499  24.0  2298d6c36e964ae4a3e7e9706d1fb8c2   \n",
       "66500  24.0  2298d6c36e964ae4a3e7e9706d1fb8c2   \n",
       "\n",
       "                            customer_id  total_amount  offer_successful  \\\n",
       "0      78afa995795e4d85b5d9ceeca43f5fef         37.67                 1   \n",
       "1      78afa995795e4d85b5d9ceeca43f5fef         49.39                 0   \n",
       "2      78afa995795e4d85b5d9ceeca43f5fef         48.28                 1   \n",
       "3      78afa995795e4d85b5d9ceeca43f5fef         48.28                 1   \n",
       "4      e2127556f4f64592b11af22de27a7932          0.00                 0   \n",
       "...                                 ...           ...               ...   \n",
       "66496  3cc622f76e464bc1809a71e871579d6c         34.04                 0   \n",
       "66497  01fe5ec668f241608eb2f7ec374cb1b7         19.92                 0   \n",
       "66498  d825b707198046e39baa4fdcfa11d621         28.42                 0   \n",
       "66499  c207a8a8ef5c47ee970ca45f859e07eb         75.84                 1   \n",
       "66500  9a3f45cf29ef428b932492c7a5d6ac52         14.25                 1   \n",
       "\n",
       "       difficulty  duration  reward  bogo  discount  ...  email  mobile  \\\n",
       "0               5         7       5   1.0       0.0  ...    1.0     1.0   \n",
       "1               0         3       0   0.0       0.0  ...    1.0     1.0   \n",
       "2              10         7      10   1.0       0.0  ...    1.0     1.0   \n",
       "3               5         5       5   1.0       0.0  ...    1.0     1.0   \n",
       "4              10         7       2   0.0       1.0  ...    1.0     1.0   \n",
       "...           ...       ...     ...   ...       ...  ...    ...     ...   \n",
       "66496          10         7       2   0.0       1.0  ...    1.0     1.0   \n",
       "66497           0         3       0   0.0       0.0  ...    1.0     1.0   \n",
       "66498           5         7       5   1.0       0.0  ...    1.0     1.0   \n",
       "66499           7         7       3   0.0       1.0  ...    1.0     1.0   \n",
       "66500           7         7       3   0.0       1.0  ...    1.0     1.0   \n",
       "\n",
       "       social  web  became_member_on gender    income   age  start_year  \\\n",
       "0         0.0  1.0        2017-05-09      0  100000.0  75.0        2017   \n",
       "1         1.0  0.0        2017-05-09      0  100000.0  75.0        2017   \n",
       "2         1.0  0.0        2017-05-09      0  100000.0  75.0        2017   \n",
       "3         1.0  1.0        2017-05-09      0  100000.0  75.0        2017   \n",
       "4         0.0  1.0        2018-04-26      1   70000.0  68.0        2018   \n",
       "...       ...  ...               ...    ...       ...   ...         ...   \n",
       "66496     0.0  1.0        2017-08-20      1   44000.0  59.0        2017   \n",
       "66497     1.0  0.0        2017-08-02      1   64000.0  44.0        2017   \n",
       "66498     0.0  1.0        2018-04-23      1   73000.0  61.0        2018   \n",
       "66499     1.0  1.0        2017-12-23      0   86000.0  52.0        2017   \n",
       "66500     1.0  1.0        2016-10-19      1   70000.0  20.0        2016   \n",
       "\n",
       "       start_month  \n",
       "0                5  \n",
       "1                5  \n",
       "2                5  \n",
       "3                5  \n",
       "4                4  \n",
       "...            ...  \n",
       "66496            8  \n",
       "66497            8  \n",
       "66498            4  \n",
       "66499           12  \n",
       "66500           10  \n",
       "\n",
       "[66501 rows x 21 columns]"
      ]
     },
     "execution_count": 39,
     "metadata": {},
     "output_type": "execute_result"
    }
   ],
   "source": [
    "columns_list = ['time', 'offer_id', 'customer_id', 'total_amount', \n",
    "                'offer_successful', 'difficulty', 'duration', \n",
    "                'reward', 'bogo', 'discount', 'informational',\n",
    "                'email', 'mobile', 'social', 'web', 'became_member_on',\n",
    "                'gender', 'income', 'age', 'start_year', 'start_month']\n",
    "final_data[columns_list]"
   ]
  },
  {
   "cell_type": "code",
   "execution_count": 40,
   "metadata": {},
   "outputs": [
    {
     "data": {
      "text/plain": [
       "Index(['offer_id', 'customer_id', 'time', 'total_amount', 'offer_successful',\n",
       "       'reward', 'difficulty', 'duration', 'bogo', 'informational', 'discount',\n",
       "       'web', 'email', 'social', 'mobile', 'gender', 'age', 'became_member_on',\n",
       "       'income', 'start_year', 'start_month'],\n",
       "      dtype='object')"
      ]
     },
     "execution_count": 40,
     "metadata": {},
     "output_type": "execute_result"
    }
   ],
   "source": [
    "final_data.columns"
   ]
  },
  {
   "cell_type": "code",
   "execution_count": 41,
   "metadata": {},
   "outputs": [],
   "source": [
    "final_data.to_csv('final_data.csv', index=False)"
   ]
  },
  {
   "cell_type": "code",
   "execution_count": 42,
   "metadata": {},
   "outputs": [],
   "source": [
    "data = pd.read_csv('final_data.csv')"
   ]
  },
  {
   "cell_type": "code",
   "execution_count": 43,
   "metadata": {},
   "outputs": [
    {
     "data": {
      "text/html": [
       "<div>\n",
       "<style scoped>\n",
       "    .dataframe tbody tr th:only-of-type {\n",
       "        vertical-align: middle;\n",
       "    }\n",
       "\n",
       "    .dataframe tbody tr th {\n",
       "        vertical-align: top;\n",
       "    }\n",
       "\n",
       "    .dataframe thead th {\n",
       "        text-align: right;\n",
       "    }\n",
       "</style>\n",
       "<table border=\"1\" class=\"dataframe\">\n",
       "  <thead>\n",
       "    <tr style=\"text-align: right;\">\n",
       "      <th></th>\n",
       "      <th>time</th>\n",
       "      <th>total_amount</th>\n",
       "      <th>offer_successful</th>\n",
       "      <th>reward</th>\n",
       "      <th>difficulty</th>\n",
       "      <th>duration</th>\n",
       "      <th>bogo</th>\n",
       "      <th>informational</th>\n",
       "      <th>discount</th>\n",
       "      <th>web</th>\n",
       "      <th>email</th>\n",
       "      <th>social</th>\n",
       "      <th>mobile</th>\n",
       "      <th>gender</th>\n",
       "      <th>age</th>\n",
       "      <th>income</th>\n",
       "      <th>start_year</th>\n",
       "      <th>start_month</th>\n",
       "    </tr>\n",
       "  </thead>\n",
       "  <tbody>\n",
       "    <tr>\n",
       "      <th>count</th>\n",
       "      <td>66501.000000</td>\n",
       "      <td>66501.000000</td>\n",
       "      <td>66501.000000</td>\n",
       "      <td>66501.000000</td>\n",
       "      <td>66501.00000</td>\n",
       "      <td>66501.000000</td>\n",
       "      <td>66501.000000</td>\n",
       "      <td>66501.000000</td>\n",
       "      <td>66501.000000</td>\n",
       "      <td>66501.000000</td>\n",
       "      <td>66501.0</td>\n",
       "      <td>66501.000000</td>\n",
       "      <td>66501.000000</td>\n",
       "      <td>66501.000000</td>\n",
       "      <td>66501.000000</td>\n",
       "      <td>66501.000000</td>\n",
       "      <td>66501.000000</td>\n",
       "      <td>66501.000000</td>\n",
       "    </tr>\n",
       "    <tr>\n",
       "      <th>mean</th>\n",
       "      <td>13.858784</td>\n",
       "      <td>30.660418</td>\n",
       "      <td>0.471647</td>\n",
       "      <td>4.198824</td>\n",
       "      <td>7.71417</td>\n",
       "      <td>6.507571</td>\n",
       "      <td>0.399047</td>\n",
       "      <td>0.199997</td>\n",
       "      <td>0.400956</td>\n",
       "      <td>0.799612</td>\n",
       "      <td>1.0</td>\n",
       "      <td>0.598517</td>\n",
       "      <td>0.898859</td>\n",
       "      <td>0.573360</td>\n",
       "      <td>54.369258</td>\n",
       "      <td>65371.618472</td>\n",
       "      <td>2016.622021</td>\n",
       "      <td>6.692155</td>\n",
       "    </tr>\n",
       "    <tr>\n",
       "      <th>std</th>\n",
       "      <td>8.188695</td>\n",
       "      <td>57.791987</td>\n",
       "      <td>0.499199</td>\n",
       "      <td>3.398100</td>\n",
       "      <td>5.54754</td>\n",
       "      <td>2.204416</td>\n",
       "      <td>0.489706</td>\n",
       "      <td>0.400001</td>\n",
       "      <td>0.490096</td>\n",
       "      <td>0.400294</td>\n",
       "      <td>0.0</td>\n",
       "      <td>0.490202</td>\n",
       "      <td>0.301518</td>\n",
       "      <td>0.494593</td>\n",
       "      <td>17.395430</td>\n",
       "      <td>21623.288473</td>\n",
       "      <td>1.198364</td>\n",
       "      <td>3.492419</td>\n",
       "    </tr>\n",
       "    <tr>\n",
       "      <th>min</th>\n",
       "      <td>0.000000</td>\n",
       "      <td>0.000000</td>\n",
       "      <td>0.000000</td>\n",
       "      <td>0.000000</td>\n",
       "      <td>0.00000</td>\n",
       "      <td>3.000000</td>\n",
       "      <td>0.000000</td>\n",
       "      <td>0.000000</td>\n",
       "      <td>0.000000</td>\n",
       "      <td>0.000000</td>\n",
       "      <td>1.0</td>\n",
       "      <td>0.000000</td>\n",
       "      <td>0.000000</td>\n",
       "      <td>0.000000</td>\n",
       "      <td>18.000000</td>\n",
       "      <td>30000.000000</td>\n",
       "      <td>2013.000000</td>\n",
       "      <td>1.000000</td>\n",
       "    </tr>\n",
       "    <tr>\n",
       "      <th>25%</th>\n",
       "      <td>7.000000</td>\n",
       "      <td>2.260000</td>\n",
       "      <td>0.000000</td>\n",
       "      <td>2.000000</td>\n",
       "      <td>5.00000</td>\n",
       "      <td>5.000000</td>\n",
       "      <td>0.000000</td>\n",
       "      <td>0.000000</td>\n",
       "      <td>0.000000</td>\n",
       "      <td>1.000000</td>\n",
       "      <td>1.0</td>\n",
       "      <td>0.000000</td>\n",
       "      <td>1.000000</td>\n",
       "      <td>0.000000</td>\n",
       "      <td>42.000000</td>\n",
       "      <td>49000.000000</td>\n",
       "      <td>2016.000000</td>\n",
       "      <td>4.000000</td>\n",
       "    </tr>\n",
       "    <tr>\n",
       "      <th>50%</th>\n",
       "      <td>17.000000</td>\n",
       "      <td>16.290000</td>\n",
       "      <td>0.000000</td>\n",
       "      <td>5.000000</td>\n",
       "      <td>10.00000</td>\n",
       "      <td>7.000000</td>\n",
       "      <td>0.000000</td>\n",
       "      <td>0.000000</td>\n",
       "      <td>0.000000</td>\n",
       "      <td>1.000000</td>\n",
       "      <td>1.0</td>\n",
       "      <td>1.000000</td>\n",
       "      <td>1.000000</td>\n",
       "      <td>1.000000</td>\n",
       "      <td>55.000000</td>\n",
       "      <td>64000.000000</td>\n",
       "      <td>2017.000000</td>\n",
       "      <td>7.000000</td>\n",
       "    </tr>\n",
       "    <tr>\n",
       "      <th>75%</th>\n",
       "      <td>21.000000</td>\n",
       "      <td>40.460000</td>\n",
       "      <td>1.000000</td>\n",
       "      <td>5.000000</td>\n",
       "      <td>10.00000</td>\n",
       "      <td>7.000000</td>\n",
       "      <td>1.000000</td>\n",
       "      <td>0.000000</td>\n",
       "      <td>1.000000</td>\n",
       "      <td>1.000000</td>\n",
       "      <td>1.0</td>\n",
       "      <td>1.000000</td>\n",
       "      <td>1.000000</td>\n",
       "      <td>1.000000</td>\n",
       "      <td>66.000000</td>\n",
       "      <td>80000.000000</td>\n",
       "      <td>2017.000000</td>\n",
       "      <td>10.000000</td>\n",
       "    </tr>\n",
       "    <tr>\n",
       "      <th>max</th>\n",
       "      <td>24.000000</td>\n",
       "      <td>1200.990000</td>\n",
       "      <td>1.000000</td>\n",
       "      <td>10.000000</td>\n",
       "      <td>20.00000</td>\n",
       "      <td>10.000000</td>\n",
       "      <td>1.000000</td>\n",
       "      <td>1.000000</td>\n",
       "      <td>1.000000</td>\n",
       "      <td>1.000000</td>\n",
       "      <td>1.0</td>\n",
       "      <td>1.000000</td>\n",
       "      <td>1.000000</td>\n",
       "      <td>1.000000</td>\n",
       "      <td>101.000000</td>\n",
       "      <td>120000.000000</td>\n",
       "      <td>2018.000000</td>\n",
       "      <td>12.000000</td>\n",
       "    </tr>\n",
       "  </tbody>\n",
       "</table>\n",
       "</div>"
      ],
      "text/plain": [
       "               time  total_amount  offer_successful        reward  \\\n",
       "count  66501.000000  66501.000000      66501.000000  66501.000000   \n",
       "mean      13.858784     30.660418          0.471647      4.198824   \n",
       "std        8.188695     57.791987          0.499199      3.398100   \n",
       "min        0.000000      0.000000          0.000000      0.000000   \n",
       "25%        7.000000      2.260000          0.000000      2.000000   \n",
       "50%       17.000000     16.290000          0.000000      5.000000   \n",
       "75%       21.000000     40.460000          1.000000      5.000000   \n",
       "max       24.000000   1200.990000          1.000000     10.000000   \n",
       "\n",
       "        difficulty      duration          bogo  informational      discount  \\\n",
       "count  66501.00000  66501.000000  66501.000000   66501.000000  66501.000000   \n",
       "mean       7.71417      6.507571      0.399047       0.199997      0.400956   \n",
       "std        5.54754      2.204416      0.489706       0.400001      0.490096   \n",
       "min        0.00000      3.000000      0.000000       0.000000      0.000000   \n",
       "25%        5.00000      5.000000      0.000000       0.000000      0.000000   \n",
       "50%       10.00000      7.000000      0.000000       0.000000      0.000000   \n",
       "75%       10.00000      7.000000      1.000000       0.000000      1.000000   \n",
       "max       20.00000     10.000000      1.000000       1.000000      1.000000   \n",
       "\n",
       "                web    email        social        mobile        gender  \\\n",
       "count  66501.000000  66501.0  66501.000000  66501.000000  66501.000000   \n",
       "mean       0.799612      1.0      0.598517      0.898859      0.573360   \n",
       "std        0.400294      0.0      0.490202      0.301518      0.494593   \n",
       "min        0.000000      1.0      0.000000      0.000000      0.000000   \n",
       "25%        1.000000      1.0      0.000000      1.000000      0.000000   \n",
       "50%        1.000000      1.0      1.000000      1.000000      1.000000   \n",
       "75%        1.000000      1.0      1.000000      1.000000      1.000000   \n",
       "max        1.000000      1.0      1.000000      1.000000      1.000000   \n",
       "\n",
       "                age         income    start_year   start_month  \n",
       "count  66501.000000   66501.000000  66501.000000  66501.000000  \n",
       "mean      54.369258   65371.618472   2016.622021      6.692155  \n",
       "std       17.395430   21623.288473      1.198364      3.492419  \n",
       "min       18.000000   30000.000000   2013.000000      1.000000  \n",
       "25%       42.000000   49000.000000   2016.000000      4.000000  \n",
       "50%       55.000000   64000.000000   2017.000000      7.000000  \n",
       "75%       66.000000   80000.000000   2017.000000     10.000000  \n",
       "max      101.000000  120000.000000   2018.000000     12.000000  "
      ]
     },
     "execution_count": 43,
     "metadata": {},
     "output_type": "execute_result"
    }
   ],
   "source": [
    "data.describe()"
   ]
  },
  {
   "cell_type": "code",
   "execution_count": 44,
   "metadata": {},
   "outputs": [
    {
     "data": {
      "text/html": [
       "<div>\n",
       "<style scoped>\n",
       "    .dataframe tbody tr th:only-of-type {\n",
       "        vertical-align: middle;\n",
       "    }\n",
       "\n",
       "    .dataframe tbody tr th {\n",
       "        vertical-align: top;\n",
       "    }\n",
       "\n",
       "    .dataframe thead th {\n",
       "        text-align: right;\n",
       "    }\n",
       "</style>\n",
       "<table border=\"1\" class=\"dataframe\">\n",
       "  <thead>\n",
       "    <tr style=\"text-align: right;\">\n",
       "      <th></th>\n",
       "      <th>offer_id</th>\n",
       "      <th>total_amount</th>\n",
       "      <th>offer_successful</th>\n",
       "      <th>reward</th>\n",
       "      <th>difficulty</th>\n",
       "      <th>duration</th>\n",
       "      <th>bogo</th>\n",
       "      <th>discount</th>\n",
       "      <th>web</th>\n",
       "      <th>social</th>\n",
       "      <th>mobile</th>\n",
       "      <th>gender</th>\n",
       "      <th>age</th>\n",
       "      <th>income</th>\n",
       "      <th>start_year</th>\n",
       "      <th>start_month</th>\n",
       "    </tr>\n",
       "  </thead>\n",
       "  <tbody>\n",
       "    <tr>\n",
       "      <th>0</th>\n",
       "      <td>9b98b8c7a33c4b65b9aebfe6a799e6d9</td>\n",
       "      <td>37.67</td>\n",
       "      <td>1</td>\n",
       "      <td>5</td>\n",
       "      <td>5</td>\n",
       "      <td>7</td>\n",
       "      <td>1.0</td>\n",
       "      <td>0.0</td>\n",
       "      <td>1.0</td>\n",
       "      <td>0.0</td>\n",
       "      <td>1.0</td>\n",
       "      <td>0</td>\n",
       "      <td>75.0</td>\n",
       "      <td>100000.0</td>\n",
       "      <td>2017</td>\n",
       "      <td>5</td>\n",
       "    </tr>\n",
       "    <tr>\n",
       "      <th>1</th>\n",
       "      <td>5a8bc65990b245e5a138643cd4eb9837</td>\n",
       "      <td>49.39</td>\n",
       "      <td>0</td>\n",
       "      <td>0</td>\n",
       "      <td>0</td>\n",
       "      <td>3</td>\n",
       "      <td>0.0</td>\n",
       "      <td>0.0</td>\n",
       "      <td>0.0</td>\n",
       "      <td>1.0</td>\n",
       "      <td>1.0</td>\n",
       "      <td>0</td>\n",
       "      <td>75.0</td>\n",
       "      <td>100000.0</td>\n",
       "      <td>2017</td>\n",
       "      <td>5</td>\n",
       "    </tr>\n",
       "    <tr>\n",
       "      <th>2</th>\n",
       "      <td>ae264e3637204a6fb9bb56bc8210ddfd</td>\n",
       "      <td>48.28</td>\n",
       "      <td>1</td>\n",
       "      <td>10</td>\n",
       "      <td>10</td>\n",
       "      <td>7</td>\n",
       "      <td>1.0</td>\n",
       "      <td>0.0</td>\n",
       "      <td>0.0</td>\n",
       "      <td>1.0</td>\n",
       "      <td>1.0</td>\n",
       "      <td>0</td>\n",
       "      <td>75.0</td>\n",
       "      <td>100000.0</td>\n",
       "      <td>2017</td>\n",
       "      <td>5</td>\n",
       "    </tr>\n",
       "    <tr>\n",
       "      <th>3</th>\n",
       "      <td>f19421c1d4aa40978ebb69ca19b0e20d</td>\n",
       "      <td>48.28</td>\n",
       "      <td>1</td>\n",
       "      <td>5</td>\n",
       "      <td>5</td>\n",
       "      <td>5</td>\n",
       "      <td>1.0</td>\n",
       "      <td>0.0</td>\n",
       "      <td>1.0</td>\n",
       "      <td>1.0</td>\n",
       "      <td>1.0</td>\n",
       "      <td>0</td>\n",
       "      <td>75.0</td>\n",
       "      <td>100000.0</td>\n",
       "      <td>2017</td>\n",
       "      <td>5</td>\n",
       "    </tr>\n",
       "    <tr>\n",
       "      <th>4</th>\n",
       "      <td>2906b810c7d4411798c6938adc9daaa5</td>\n",
       "      <td>0.00</td>\n",
       "      <td>0</td>\n",
       "      <td>2</td>\n",
       "      <td>10</td>\n",
       "      <td>7</td>\n",
       "      <td>0.0</td>\n",
       "      <td>1.0</td>\n",
       "      <td>1.0</td>\n",
       "      <td>0.0</td>\n",
       "      <td>1.0</td>\n",
       "      <td>1</td>\n",
       "      <td>68.0</td>\n",
       "      <td>70000.0</td>\n",
       "      <td>2018</td>\n",
       "      <td>4</td>\n",
       "    </tr>\n",
       "  </tbody>\n",
       "</table>\n",
       "</div>"
      ],
      "text/plain": [
       "                           offer_id  total_amount  offer_successful  reward  \\\n",
       "0  9b98b8c7a33c4b65b9aebfe6a799e6d9         37.67                 1       5   \n",
       "1  5a8bc65990b245e5a138643cd4eb9837         49.39                 0       0   \n",
       "2  ae264e3637204a6fb9bb56bc8210ddfd         48.28                 1      10   \n",
       "3  f19421c1d4aa40978ebb69ca19b0e20d         48.28                 1       5   \n",
       "4  2906b810c7d4411798c6938adc9daaa5          0.00                 0       2   \n",
       "\n",
       "   difficulty  duration  bogo  discount  web  social  mobile  gender   age  \\\n",
       "0           5         7   1.0       0.0  1.0     0.0     1.0       0  75.0   \n",
       "1           0         3   0.0       0.0  0.0     1.0     1.0       0  75.0   \n",
       "2          10         7   1.0       0.0  0.0     1.0     1.0       0  75.0   \n",
       "3           5         5   1.0       0.0  1.0     1.0     1.0       0  75.0   \n",
       "4          10         7   0.0       1.0  1.0     0.0     1.0       1  68.0   \n",
       "\n",
       "     income  start_year  start_month  \n",
       "0  100000.0        2017            5  \n",
       "1  100000.0        2017            5  \n",
       "2  100000.0        2017            5  \n",
       "3  100000.0        2017            5  \n",
       "4   70000.0        2018            4  "
      ]
     },
     "execution_count": 44,
     "metadata": {},
     "output_type": "execute_result"
    }
   ],
   "source": [
    "column_ordering = ['offer_id', 'total_amount']\n",
    "column_ordering.extend([elem for elem in data.columns if elem not in column_ordering])\n",
    "\n",
    "data = data[column_ordering]\n",
    "data = data.drop(columns=['time', 'customer_id', 'email', 'informational', 'became_member_on'])\n",
    "data.head()"
   ]
  },
  {
   "cell_type": "code",
   "execution_count": 45,
   "metadata": {},
   "outputs": [],
   "source": [
    "def calculate_percentage_success():\n",
    "    successful_count = data[['offer_id', 'offer_successful']].groupby(\n",
    "        'offer_id').sum().reset_index()\n",
    "    offer_count = data['offer_id'].value_counts()\n",
    "    offer_count = pd.DataFrame(list(zip(offer_count.index.values,offer_count.values)),columns=['offer_id', 'count'])\n",
    "    successful_count = successful_count.sort_values('offer_id')\n",
    "    offer_count = offer_count.sort_values('offer_id')\n",
    "    success_percentage = pd.merge(offer_count, successful_count, on=\"offer_id\")\n",
    "    success_percentage['success_percentage'] = (100 * success_percentage['offer_successful'] / success_percentage['count'])\n",
    "    success_percentage = pd.merge(success_percentage, portfolio, on=\"offer_id\")\n",
    "    success_percentage = success_percentage.drop(columns=['offer_successful'])\n",
    "    success_percentage = success_percentage.sort_values('success_percentage', ascending=False)\n",
    "    return success_percentage.reset_index(drop=True)"
   ]
  },
  {
   "cell_type": "code",
   "execution_count": 46,
   "metadata": {},
   "outputs": [
    {
     "data": {
      "text/html": [
       "<div>\n",
       "<style scoped>\n",
       "    .dataframe tbody tr th:only-of-type {\n",
       "        vertical-align: middle;\n",
       "    }\n",
       "\n",
       "    .dataframe tbody tr th {\n",
       "        vertical-align: top;\n",
       "    }\n",
       "\n",
       "    .dataframe thead th {\n",
       "        text-align: right;\n",
       "    }\n",
       "</style>\n",
       "<table border=\"1\" class=\"dataframe\">\n",
       "  <thead>\n",
       "    <tr style=\"text-align: right;\">\n",
       "      <th></th>\n",
       "      <th>offer_id</th>\n",
       "      <th>count</th>\n",
       "      <th>success_percentage</th>\n",
       "      <th>reward</th>\n",
       "      <th>difficulty</th>\n",
       "      <th>duration</th>\n",
       "      <th>bogo</th>\n",
       "      <th>informational</th>\n",
       "      <th>discount</th>\n",
       "      <th>web</th>\n",
       "      <th>email</th>\n",
       "      <th>social</th>\n",
       "      <th>mobile</th>\n",
       "    </tr>\n",
       "  </thead>\n",
       "  <tbody>\n",
       "    <tr>\n",
       "      <th>0</th>\n",
       "      <td>fafdcd668e3743c1bb461111dcafc2a4</td>\n",
       "      <td>6652</td>\n",
       "      <td>75.285628</td>\n",
       "      <td>2</td>\n",
       "      <td>10</td>\n",
       "      <td>10</td>\n",
       "      <td>0.0</td>\n",
       "      <td>0.0</td>\n",
       "      <td>1.0</td>\n",
       "      <td>1.0</td>\n",
       "      <td>1.0</td>\n",
       "      <td>1.0</td>\n",
       "      <td>1.0</td>\n",
       "    </tr>\n",
       "    <tr>\n",
       "      <th>1</th>\n",
       "      <td>2298d6c36e964ae4a3e7e9706d1fb8c2</td>\n",
       "      <td>6655</td>\n",
       "      <td>72.742299</td>\n",
       "      <td>3</td>\n",
       "      <td>7</td>\n",
       "      <td>7</td>\n",
       "      <td>0.0</td>\n",
       "      <td>0.0</td>\n",
       "      <td>1.0</td>\n",
       "      <td>1.0</td>\n",
       "      <td>1.0</td>\n",
       "      <td>1.0</td>\n",
       "      <td>1.0</td>\n",
       "    </tr>\n",
       "    <tr>\n",
       "      <th>2</th>\n",
       "      <td>f19421c1d4aa40978ebb69ca19b0e20d</td>\n",
       "      <td>6576</td>\n",
       "      <td>61.618005</td>\n",
       "      <td>5</td>\n",
       "      <td>5</td>\n",
       "      <td>5</td>\n",
       "      <td>1.0</td>\n",
       "      <td>0.0</td>\n",
       "      <td>0.0</td>\n",
       "      <td>1.0</td>\n",
       "      <td>1.0</td>\n",
       "      <td>1.0</td>\n",
       "      <td>1.0</td>\n",
       "    </tr>\n",
       "    <tr>\n",
       "      <th>3</th>\n",
       "      <td>ae264e3637204a6fb9bb56bc8210ddfd</td>\n",
       "      <td>6683</td>\n",
       "      <td>54.646117</td>\n",
       "      <td>10</td>\n",
       "      <td>10</td>\n",
       "      <td>7</td>\n",
       "      <td>1.0</td>\n",
       "      <td>0.0</td>\n",
       "      <td>0.0</td>\n",
       "      <td>0.0</td>\n",
       "      <td>1.0</td>\n",
       "      <td>1.0</td>\n",
       "      <td>1.0</td>\n",
       "    </tr>\n",
       "    <tr>\n",
       "      <th>4</th>\n",
       "      <td>4d5c57ea9a6940dd891ad53e9dbe8da0</td>\n",
       "      <td>6593</td>\n",
       "      <td>51.721523</td>\n",
       "      <td>10</td>\n",
       "      <td>10</td>\n",
       "      <td>5</td>\n",
       "      <td>1.0</td>\n",
       "      <td>0.0</td>\n",
       "      <td>0.0</td>\n",
       "      <td>1.0</td>\n",
       "      <td>1.0</td>\n",
       "      <td>1.0</td>\n",
       "      <td>1.0</td>\n",
       "    </tr>\n",
       "    <tr>\n",
       "      <th>5</th>\n",
       "      <td>9b98b8c7a33c4b65b9aebfe6a799e6d9</td>\n",
       "      <td>6685</td>\n",
       "      <td>48.287210</td>\n",
       "      <td>5</td>\n",
       "      <td>5</td>\n",
       "      <td>7</td>\n",
       "      <td>1.0</td>\n",
       "      <td>0.0</td>\n",
       "      <td>0.0</td>\n",
       "      <td>1.0</td>\n",
       "      <td>1.0</td>\n",
       "      <td>0.0</td>\n",
       "      <td>1.0</td>\n",
       "    </tr>\n",
       "    <tr>\n",
       "      <th>6</th>\n",
       "      <td>2906b810c7d4411798c6938adc9daaa5</td>\n",
       "      <td>6631</td>\n",
       "      <td>47.730357</td>\n",
       "      <td>2</td>\n",
       "      <td>10</td>\n",
       "      <td>7</td>\n",
       "      <td>0.0</td>\n",
       "      <td>0.0</td>\n",
       "      <td>1.0</td>\n",
       "      <td>1.0</td>\n",
       "      <td>1.0</td>\n",
       "      <td>0.0</td>\n",
       "      <td>1.0</td>\n",
       "    </tr>\n",
       "    <tr>\n",
       "      <th>7</th>\n",
       "      <td>0b1e1539f2cc45b7b9fa7c272da2e1d7</td>\n",
       "      <td>6726</td>\n",
       "      <td>45.762712</td>\n",
       "      <td>5</td>\n",
       "      <td>20</td>\n",
       "      <td>10</td>\n",
       "      <td>0.0</td>\n",
       "      <td>0.0</td>\n",
       "      <td>1.0</td>\n",
       "      <td>1.0</td>\n",
       "      <td>1.0</td>\n",
       "      <td>0.0</td>\n",
       "      <td>0.0</td>\n",
       "    </tr>\n",
       "    <tr>\n",
       "      <th>8</th>\n",
       "      <td>3f207df678b143eea3cee63160fa8bed</td>\n",
       "      <td>6657</td>\n",
       "      <td>7.721196</td>\n",
       "      <td>0</td>\n",
       "      <td>0</td>\n",
       "      <td>4</td>\n",
       "      <td>0.0</td>\n",
       "      <td>1.0</td>\n",
       "      <td>0.0</td>\n",
       "      <td>1.0</td>\n",
       "      <td>1.0</td>\n",
       "      <td>0.0</td>\n",
       "      <td>1.0</td>\n",
       "    </tr>\n",
       "    <tr>\n",
       "      <th>9</th>\n",
       "      <td>5a8bc65990b245e5a138643cd4eb9837</td>\n",
       "      <td>6643</td>\n",
       "      <td>6.277284</td>\n",
       "      <td>0</td>\n",
       "      <td>0</td>\n",
       "      <td>3</td>\n",
       "      <td>0.0</td>\n",
       "      <td>1.0</td>\n",
       "      <td>0.0</td>\n",
       "      <td>0.0</td>\n",
       "      <td>1.0</td>\n",
       "      <td>1.0</td>\n",
       "      <td>1.0</td>\n",
       "    </tr>\n",
       "  </tbody>\n",
       "</table>\n",
       "</div>"
      ],
      "text/plain": [
       "                           offer_id  count  success_percentage  reward  \\\n",
       "0  fafdcd668e3743c1bb461111dcafc2a4   6652           75.285628       2   \n",
       "1  2298d6c36e964ae4a3e7e9706d1fb8c2   6655           72.742299       3   \n",
       "2  f19421c1d4aa40978ebb69ca19b0e20d   6576           61.618005       5   \n",
       "3  ae264e3637204a6fb9bb56bc8210ddfd   6683           54.646117      10   \n",
       "4  4d5c57ea9a6940dd891ad53e9dbe8da0   6593           51.721523      10   \n",
       "5  9b98b8c7a33c4b65b9aebfe6a799e6d9   6685           48.287210       5   \n",
       "6  2906b810c7d4411798c6938adc9daaa5   6631           47.730357       2   \n",
       "7  0b1e1539f2cc45b7b9fa7c272da2e1d7   6726           45.762712       5   \n",
       "8  3f207df678b143eea3cee63160fa8bed   6657            7.721196       0   \n",
       "9  5a8bc65990b245e5a138643cd4eb9837   6643            6.277284       0   \n",
       "\n",
       "   difficulty  duration  bogo  informational  discount  web  email  social  \\\n",
       "0          10        10   0.0            0.0       1.0  1.0    1.0     1.0   \n",
       "1           7         7   0.0            0.0       1.0  1.0    1.0     1.0   \n",
       "2           5         5   1.0            0.0       0.0  1.0    1.0     1.0   \n",
       "3          10         7   1.0            0.0       0.0  0.0    1.0     1.0   \n",
       "4          10         5   1.0            0.0       0.0  1.0    1.0     1.0   \n",
       "5           5         7   1.0            0.0       0.0  1.0    1.0     0.0   \n",
       "6          10         7   0.0            0.0       1.0  1.0    1.0     0.0   \n",
       "7          20        10   0.0            0.0       1.0  1.0    1.0     0.0   \n",
       "8           0         4   0.0            1.0       0.0  1.0    1.0     0.0   \n",
       "9           0         3   0.0            1.0       0.0  0.0    1.0     1.0   \n",
       "\n",
       "   mobile  \n",
       "0     1.0  \n",
       "1     1.0  \n",
       "2     1.0  \n",
       "3     1.0  \n",
       "4     1.0  \n",
       "5     1.0  \n",
       "6     1.0  \n",
       "7     0.0  \n",
       "8     1.0  \n",
       "9     1.0  "
      ]
     },
     "execution_count": 46,
     "metadata": {},
     "output_type": "execute_result"
    }
   ],
   "source": [
    "success_percentage = calculate_percentage_success()\n",
    "success_percentage"
   ]
  },
  {
   "cell_type": "markdown",
   "metadata": {},
   "source": [
    "### Plot that shows:\n",
    "\n",
    "- How many customers were provided with one specific offer?\n",
    "- What is the success rate of offer in percentage?"
   ]
  },
  {
   "cell_type": "code",
   "execution_count": 47,
   "metadata": {},
   "outputs": [
    {
     "data": {
      "text/plain": [
       "Text(0, 0.5, 'Success percentage')"
      ]
     },
     "execution_count": 47,
     "metadata": {},
     "output_type": "execute_result"
    },
    {
     "data": {
      "image/png": "[encoded data removed]",
      "text/plain": [
       "<Figure size 864x288 with 2 Axes>"
      ]
     },
     "metadata": {
      "needs_background": "light"
     },
     "output_type": "display_data"
    }
   ],
   "source": [
    "fig, ax = plt.subplots(figsize=(12, 4), nrows=1, ncols=2)\n",
    "\n",
    "ax[0].bar(success_percentage.index + 1, success_percentage['count'])\n",
    "ax[0].set_xticks(np.arange(0,10) + 1)\n",
    "ax[0].set_xlabel('Offer number')\n",
    "ax[0].set_ylabel('Count')\n",
    "\n",
    "ax[1].plot(success_percentage.index + 1, success_percentage['success_percentage'])\n",
    "ax[1].set_xticks(np.arange(0,10) + 1)\n",
    "ax[1].set_xlabel('Offer number')\n",
    "ax[1].set_ylabel('Success percentage')"
   ]
  },
  {
   "cell_type": "markdown",
   "metadata": {},
   "source": [
    "## Build models"
   ]
  },
  {
   "cell_type": "markdown",
   "metadata": {},
   "source": [
    "### Create train and test data sets "
   ]
  },
  {
   "cell_type": "code",
   "execution_count": 48,
   "metadata": {},
   "outputs": [],
   "source": [
    "# factors/features that influence the label variable\n",
    "features = data.drop(columns=['offer_successful'])\n",
    "label = data.filter(['offer_successful'])\n",
    "\n",
    "# split data into train and test sets\n",
    "X_train, X_test, y_train, y_test = train_test_split(features.values, label.values, test_size=0.3, random_state=42)\n",
    "\n",
    "# extract offer_id, total_amount and convert other features to float of train data\n",
    "offer_id_train = X_train[:, 0]\n",
    "total_amount_train = X_train[:, 1]\n",
    "X_train = X_train[:, 2:].astype('float64')\n",
    "\n",
    "# extract offer_id, total_amount and convert other features to float of test data\n",
    "offer_id_test = X_test[:, 0]\n",
    "total_amount_test = X_test[:, 1]\n",
    "X_test = X_test[:, 2:].astype('float64')\n",
    "\n",
    "# convert train and test labels to array\n",
    "y_train = y_train.ravel()\n",
    "y_test = y_test.ravel()"
   ]
  },
  {
   "cell_type": "markdown",
   "metadata": {},
   "source": [
    "### Naive Predictor"
   ]
  },
  {
   "cell_type": "code",
   "execution_count": 49,
   "metadata": {},
   "outputs": [
    {
     "name": "stdout",
     "output_type": "stream",
     "text": [
      "Naive predictor accuracy: 0.471\n",
      "Naive predictor f1-score: 0.640\n"
     ]
    }
   ],
   "source": [
    "naive_predictor_accuracy = accuracy_score(y_train, np.ones(len(y_train)))\n",
    "naive_predictor_f1score = f1_score(y_train, np.ones(len(y_train)))\n",
    "\n",
    "print(\"Naive predictor accuracy: %.3f\" % (naive_predictor_accuracy))\n",
    "print(\"Naive predictor f1-score: %.3f\" % (naive_predictor_f1score))"
   ]
  },
  {
   "cell_type": "code",
   "execution_count": 57,
   "metadata": {},
   "outputs": [
    {
     "name": "stdout",
     "output_type": "stream",
     "text": [
      "Naive predictor accuracy: 0.474\n",
      "Naive predictor f1-score: 0.643\n"
     ]
    }
   ],
   "source": [
    "naive_predictor_accuracy = accuracy_score(y_test, np.ones(len(y_test)))\n",
    "naive_predictor_f1score = f1_score(y_test, np.ones(len(y_test)))\n",
    "\n",
    "print(\"Naive predictor accuracy: %.3f\" % (naive_predictor_accuracy))\n",
    "print(\"Naive predictor f1-score: %.3f\" % (naive_predictor_f1score))"
   ]
  },
  {
   "cell_type": "markdown",
   "metadata": {},
   "source": [
    "### Logistic Regression"
   ]
  },
  {
   "cell_type": "code",
   "execution_count": 50,
   "metadata": {},
   "outputs": [],
   "source": [
    "def evaluate_model_performance(clf, X_data, y_data):\n",
    "    '''\n",
    "    This function evalutes the model on the provided data\n",
    "    Input:-  clf: trained model\n",
    "             X_data: X part of the data\n",
    "             Y_data: Y part of the data\n",
    "    Output:- clf_accuracy: Accuracy of the model\n",
    "             clf_f1_score: F1 score of the model\n",
    "    '''\n",
    "    \n",
    "    class_name = re.sub(\"[<>']\", '', str(clf.__class__))\n",
    "    class_name = class_name.split(' ')[1]\n",
    "    class_name = class_name.split('.')[-1]\n",
    "\n",
    "    y_pred_rf = clf.predict(X_data)\n",
    "\n",
    "    clf_accuracy = accuracy_score(y_data, y_pred_rf)\n",
    "    clf_f1_score = f1_score(y_data, y_pred_rf)\n",
    "    \n",
    "    print(\"%s model accuracy: %.3f\" % (class_name, clf_accuracy))\n",
    "    print(\"%s model f1-score: %.3f\" % (class_name, clf_f1_score))\n",
    "    \n",
    "    return clf_accuracy, clf_f1_score"
   ]
  },
  {
   "cell_type": "code",
   "execution_count": 51,
   "metadata": {},
   "outputs": [
    {
     "name": "stdout",
     "output_type": "stream",
     "text": [
      "Fitting 3 folds for each of 6 candidates, totalling 18 fits\n"
     ]
    },
    {
     "name": "stderr",
     "output_type": "stream",
     "text": [
      "C:\\Users\\dhand\\anaconda3\\lib\\site-packages\\sklearn\\svm\\_base.py:985: ConvergenceWarning: Liblinear failed to converge, increase the number of iterations.\n",
      "  warnings.warn(\"Liblinear failed to converge, increase \"\n"
     ]
    },
    {
     "data": {
      "text/plain": [
       "RandomizedSearchCV(cv=3,\n",
       "                   estimator=LogisticRegression(random_state=42,\n",
       "                                                solver='liblinear'),\n",
       "                   n_iter=6, n_jobs=3,\n",
       "                   param_distributions={'C': [1.0, 0.1, 0.01],\n",
       "                                        'penalty': ['l1', 'l2']},\n",
       "                   random_state=42, scoring=make_scorer(fbeta_score, beta=0.5),\n",
       "                   verbose=2)"
      ]
     },
     "execution_count": 51,
     "metadata": {},
     "output_type": "execute_result"
    }
   ],
   "source": [
    "scorer_ = make_scorer(fbeta_score, beta=0.5)\n",
    "\n",
    "# instantiate a logistic regression classifer object\n",
    "lr_clf_ = LogisticRegression(random_state=42, solver='liblinear')\n",
    "\n",
    "# parameters dict for tunning the model\n",
    "grid_params_ = {\n",
    "    'penalty': ['l1', 'l2'],\n",
    "    'C': [1.0, 0.1, 0.01]}\n",
    "\n",
    "lr_random_ = RandomizedSearchCV(\n",
    "    estimator = lr_clf_, param_distributions = grid_params_, \n",
    "    scoring=scorer_, n_iter = 6, cv = 3, verbose=2, \n",
    "    random_state=42, n_jobs = 3)\n",
    "\n",
    "# fitting the train data to the model\n",
    "lr_random_.fit(X_train, y_train)"
   ]
  },
  {
   "cell_type": "code",
   "execution_count": 52,
   "metadata": {},
   "outputs": [
    {
     "name": "stdout",
     "output_type": "stream",
     "text": [
      "LogisticRegression model accuracy: 0.698\n",
      "LogisticRegression model f1-score: 0.694\n"
     ]
    },
    {
     "data": {
      "text/plain": [
       "(0.6980021482277121, 0.6935118165169616)"
      ]
     },
     "execution_count": 52,
     "metadata": {},
     "output_type": "execute_result"
    }
   ],
   "source": [
    "# evaluate logistic regression model's performance\n",
    "evaluate_model_performance(lr_random_.best_estimator_, X_train, y_train)"
   ]
  },
  {
   "cell_type": "markdown",
   "metadata": {},
   "source": [
    "#### Results\n",
    "- The accuracy and f1-score of a logistic regression model are higher than that of a naive predictor, according to the findings\n",
    "- Accuracy\n",
    "    - Naive predictor: 0.471\n",
    "    - Logistic regression: 0.697\n",
    "- F1-score\n",
    "    - Naive predictor: 0.640\n",
    "    - Logistic regression: 0.693"
   ]
  },
  {
   "cell_type": "markdown",
   "metadata": {},
   "source": [
    "### Evaluate Test Data Performance"
   ]
  },
  {
   "cell_type": "code",
   "execution_count": 54,
   "metadata": {
    "scrolled": true
   },
   "outputs": [
    {
     "name": "stdout",
     "output_type": "stream",
     "text": [
      "RandomizedSearchCV model accuracy: 0.702\n",
      "RandomizedSearchCV model f1-score: 0.698\n"
     ]
    },
    {
     "data": {
      "text/plain": [
       "(0.7018695804721568, 0.6977335095029984)"
      ]
     },
     "execution_count": 54,
     "metadata": {},
     "output_type": "execute_result"
    }
   ],
   "source": [
    "evaluate_model_performance(lr_random_, X_test, y_test)"
   ]
  },
  {
   "cell_type": "markdown",
   "metadata": {},
   "source": [
    "### Construct Random Forest Classifier Model"
   ]
  },
  {
   "cell_type": "code",
   "execution_count": 56,
   "metadata": {},
   "outputs": [
    {
     "name": "stdout",
     "output_type": "stream",
     "text": [
      "Fitting 3 folds for each of 100 candidates, totalling 300 fits\n"
     ]
    },
    {
     "data": {
      "text/plain": [
       "RandomizedSearchCV(cv=3, estimator=RandomForestClassifier(random_state=42),\n",
       "                   n_iter=100, n_jobs=3,\n",
       "                   param_distributions={'max_depth': [3, 4, 5, 6, 7, 8, 9, 10,\n",
       "                                                      None],\n",
       "                                        'max_features': ['auto', 'sqrt'],\n",
       "                                        'min_samples_leaf': [1, 2, 4],\n",
       "                                        'min_samples_split': [2, 5, 10],\n",
       "                                        'n_estimators': [10, 50, 100, 150, 200,\n",
       "                                                         250, 300, 350]},\n",
       "                   random_state=42, scoring=make_scorer(fbeta_score, beta=0.5),\n",
       "                   verbose=2)"
      ]
     },
     "execution_count": 56,
     "metadata": {},
     "output_type": "execute_result"
    }
   ],
   "source": [
    "# instantiate a random forest classifier obj\n",
    "rf_clf_ = RandomForestClassifier(random_state=42)\n",
    "\n",
    "# Random forest classifier parameters\n",
    "n_estimators = [10, 50, 100, 150, 200, 250, 300, 350]\n",
    "max_features = ['auto', 'sqrt']\n",
    "max_depth = [int(x) for x in np.arange(3, 11)]\n",
    "max_depth.append(None)\n",
    "min_samples_split = [2, 5, 10]\n",
    "min_samples_leaf = [1, 2, 4]\n",
    "\n",
    "# Create the random forest dictionary\n",
    "grid_params_ = {'n_estimators': n_estimators,\n",
    "               'max_features': max_features,\n",
    "               'max_depth': max_depth,\n",
    "               'min_samples_split': min_samples_split,\n",
    "               'min_samples_leaf': min_samples_leaf}\n",
    "\n",
    "# tuning the classifer\n",
    "rf_random_ = RandomizedSearchCV(estimator = rf_clf_,\n",
    "                               param_distributions = grid_params_,\n",
    "                               scoring=scorer_,\n",
    "                               n_iter = 100,\n",
    "                               cv = 3,\n",
    "                               verbose=2,\n",
    "                               random_state=42,\n",
    "                               n_jobs = 3)\n",
    "\n",
    "# fitting of train data to the classifier\n",
    "rf_random_.fit(X_train, y_train)"
   ]
  },
  {
   "cell_type": "code",
   "execution_count": 58,
   "metadata": {},
   "outputs": [
    {
     "name": "stdout",
     "output_type": "stream",
     "text": [
      "RandomForestClassifier model accuracy: 0.760\n",
      "RandomForestClassifier model f1-score: 0.751\n"
     ]
    },
    {
     "data": {
      "text/plain": [
       "(0.7604296455424275, 0.751082540957993)"
      ]
     },
     "execution_count": 58,
     "metadata": {},
     "output_type": "execute_result"
    }
   ],
   "source": [
    "# evaluate random forest classifier model's performance\n",
    "evaluate_model_performance(rf_random_.best_estimator_, X_train, y_train)"
   ]
  },
  {
   "cell_type": "markdown",
   "metadata": {},
   "source": [
    "#### Results\n",
    "- Results suggest that a random forest model's accuracy and f1-score is better than the naive predictor\n",
    "- Accuracy\n",
    "    - Naive predictor: 0.471\n",
    "    - Random forest: 0.762\n",
    "- F1-score\n",
    "    - Naive predictor: 0.640\n",
    "    - Random forest: 0.753"
   ]
  },
  {
   "cell_type": "markdown",
   "metadata": {},
   "source": [
    "### Evaluate Test Data Performance"
   ]
  },
  {
   "cell_type": "code",
   "execution_count": 59,
   "metadata": {},
   "outputs": [
    {
     "name": "stdout",
     "output_type": "stream",
     "text": [
      "RandomForestClassifier model accuracy: 0.739\n",
      "RandomForestClassifier model f1-score: 0.729\n"
     ]
    },
    {
     "data": {
      "text/plain": [
       "(0.7386095935040851, 0.7294703532707373)"
      ]
     },
     "execution_count": 59,
     "metadata": {},
     "output_type": "execute_result"
    }
   ],
   "source": [
    "evaluate_model_performance(rf_random_.best_estimator_, X_test, y_test)"
   ]
  },
  {
   "cell_type": "markdown",
   "metadata": {},
   "source": [
    "NOTE: There are a few things to keep in mind when building these models: all features were converted to numericals in order to fit and train the models above. A machine learning model's bias and variance are two features. Inherent model assumptions about the decision border between distinct classes are referred to as bias. Variance, on the other hand, relates to the sensitivity of a model to changes in its inputs. Because these factors might sometimes influence our outcomes, models must be thoroughly verified for bias and variance. In addition, we must ensure that data does not overfit the model while partitioning train and test datasets and modifying parameters to fit a model."
   ]
  },
  {
   "cell_type": "markdown",
   "metadata": {},
   "source": [
    "## Conclusion"
   ]
  },
  {
   "cell_type": "markdown",
   "metadata": {},
   "source": [
    "I selected to solve the problem of developing a model that predicts whether a customer will respond to an offer. My approach to solve this problem consists mostly of two steps. I started by combining data from the offer portfolio, client profile, and transaction data. Second, I evaluated the precision and F1-score of a naive model that assumes all offers are accepted. Third, I compared how well logistic regression and random forest models performed. A random forest model has the best training data accuracy and F1-score, according to this investigation. The random forest model has a training data accuracy of 0.762 and an F1-score of 0.753, according to the analysis. The accuracy of the test data set was 0.740, and the F1-score was 0.730.\n",
    "\n",
    "However, by analysing features that effect an offer's success rate as a function of offer complexity, duration, and incentive, the performance of a random forest model can still be improved. These extra features should allow a random forest classifier to build a better decision boundary that distinguishes between successful and unsuccessful customer offers.\n",
    "\n",
    "Also, it appeared that we had a lot of data to work with at first, but once NaN values and duplicate columns were removed and the data was consolidated into a single dataset, it appeared that the models could have benefited from more data. The classification models may have been able to deliver greater accuracy and F1-score outcomes if they had additional data.\n",
    "\n",
    "Furthermore, if there were additional consumer measurements, better predictions may have been made. I believe we had little information on our customers for this analysis - only their age, gender, and income. It would be excellent to add a few more customer features to determine the best consumer demographics. These extra features could help improve the categorization model's findings."
   ]
  },
  {
   "cell_type": "code",
   "execution_count": null,
   "metadata": {},
   "outputs": [],
   "source": []
  }
 ],
 "metadata": {
  "kernelspec": {
   "display_name": "Python 3",
   "language": "python",
   "name": "python3"
  },
  "language_info": {
   "codemirror_mode": {
    "name": "ipython",
    "version": 3
   },
   "file_extension": ".py",
   "mimetype": "text/x-python",
   "name": "python",
   "nbconvert_exporter": "python",
   "pygments_lexer": "ipython3",
   "version": "3.8.8"
  }
 },
 "nbformat": 4,
 "nbformat_minor": 2
}
